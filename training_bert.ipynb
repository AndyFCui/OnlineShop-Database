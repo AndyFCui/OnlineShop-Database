{
 "cells": [
  {
   "cell_type": "code",
   "execution_count": 1,
   "id": "initial_id",
   "metadata": {},
   "outputs": [
    {
     "name": "stderr",
     "output_type": "stream",
     "text": [
      "c:\\Users\\Andy Cui\\.conda\\envs\\nlp\\lib\\site-packages\\tqdm\\auto.py:21: TqdmWarning: IProgress not found. Please update jupyter and ipywidgets. See https://ipywidgets.readthedocs.io/en/stable/user_install.html\n",
      "  from .autonotebook import tqdm as notebook_tqdm\n"
     ]
    }
   ],
   "source": [
    "import json\n",
    "import torch\n",
    "import numpy as np\n",
    "from transformers import AdamW\n",
    "from sklearn.metrics import accuracy_score\n",
    "from transformers import BertTokenizer, BertForSequenceClassification\n",
    "from torch.utils.data import DataLoader, RandomSampler, SequentialSampler, TensorDataset\n",
    "from tqdm import tqdm\n",
    "import os\n",
    "import matplotlib.pyplot as plt\n",
    "from sklearn.model_selection import train_test_split\n",
    "from sklearn.model_selection import KFold\n",
    "from torch.utils.data import Subset"
   ]
  },
  {
   "cell_type": "code",
   "execution_count": 2,
   "id": "336e3f59095cf075",
   "metadata": {
    "collapsed": false
   },
   "outputs": [],
   "source": [
    "file_path = 'qa_dataset.json'\n",
    "\n",
    "with open(file_path, 'r') as file:\n",
    "    data = json.load(file)"
   ]
  },
  {
   "cell_type": "code",
   "execution_count": 3,
   "id": "29c40423370cfb0c",
   "metadata": {
    "collapsed": false
   },
   "outputs": [],
   "source": [
    "tokenizer = BertTokenizer.from_pretrained('bert-base-uncased')"
   ]
  },
  {
   "cell_type": "code",
   "execution_count": 4,
   "id": "30901295",
   "metadata": {},
   "outputs": [],
   "source": [
    "# Original \n",
    "# Prepare data \n",
    "\n",
    "# Tokenizing the data\n",
    "# inputs = tokenizer([x['question'] + \" [SEP] \" + x['answer'] for x in data], padding=True, truncation=True, return_tensors=\"pt\")\n",
    "\n",
    "# Assuming binary classification (change as needed)\n",
    "# labels = torch.tensor([1 if x['answer_length'] > 100 else 0 for x in data])\n",
    "\n",
    "# Create a dataset\n",
    "# dataset = TensorDataset(inputs['input_ids'], inputs['attention_mask'], labels)"
   ]
  },
  {
   "cell_type": "code",
   "execution_count": 5,
   "id": "a37eabf0",
   "metadata": {},
   "outputs": [],
   "source": [
    "# Prepare data\n",
    "\n",
    "# Tokenizing the data\n",
    "max_length = max(len(tokenizer.encode(x['question'] + \" [SEP] \" + x['answer'])) for x in data)\n",
    "tokenized_data = [tokenizer(x['question'] + \" [SEP] \" + x['answer'], \n",
    "                            padding='max_length',  \n",
    "                            max_length=max_length,  \n",
    "                            truncation=True, \n",
    "                            return_tensors=\"pt\") for x in data]\n",
    "\n",
    "# input\n",
    "input_ids = torch.cat([item['input_ids'] for item in tokenized_data], dim=0)\n",
    "attention_masks = torch.cat([item['attention_mask'] for item in tokenized_data], dim=0)\n",
    "labels = torch.tensor([1 if x['answer_length'] > 100 else 0 for x in data])\n",
    "\n",
    "# dataset seprate\n",
    "input_ids_train, input_ids_test, attention_masks_train, attention_masks_test, labels_train, labels_test = train_test_split(\n",
    "    input_ids, attention_masks, labels, train_size=0.7, random_state=42)\n",
    "\n",
    "# create dataset\n",
    "train_dataset = TensorDataset(input_ids_train, attention_masks_train, labels_train)\n",
    "test_dataset = TensorDataset(input_ids_test, attention_masks_test, labels_test)\n",
    "dataset = TensorDataset(input_ids, attention_masks, labels)"
   ]
  },
  {
   "cell_type": "code",
   "execution_count": 6,
   "id": "9b2a94ce5138fac5",
   "metadata": {
    "collapsed": false
   },
   "outputs": [],
   "source": [
    "device = torch.device(\"cuda\" if torch.cuda.is_available() else \"cpu\")"
   ]
  },
  {
   "cell_type": "code",
   "execution_count": 7,
   "id": "65fc5a99",
   "metadata": {},
   "outputs": [
    {
     "name": "stdout",
     "output_type": "stream",
     "text": [
      "CUDA is available. Using GPU.\n"
     ]
    }
   ],
   "source": [
    "# check GPU is work\n",
    "# Train the model using a suitable optimizer and loss function.\n",
    "if torch.cuda.is_available():\n",
    "    print(\"CUDA is available. Using GPU.\")\n",
    "    device = torch.device(\"cuda\")\n",
    "else:\n",
    "    print(\"CUDA is not available. Using CPU.\")\n",
    "    device = torch.device(\"cpu\")"
   ]
  },
  {
   "cell_type": "code",
   "execution_count": 8,
   "id": "abc82c94",
   "metadata": {},
   "outputs": [
    {
     "name": "stdout",
     "output_type": "stream",
     "text": [
      "1628\n"
     ]
    },
    {
     "data": {
      "text/plain": [
       "(tensor([[ 101, 2515, 2023,  ...,    0,    0,    0],\n",
       "         [ 101, 2064, 2017,  ...,    0,    0,    0],\n",
       "         [ 101, 2054, 2003,  ...,    0,    0,    0],\n",
       "         ...,\n",
       "         [ 101, 2064, 2009,  ...,    0,    0,    0],\n",
       "         [ 101, 7632, 2515,  ...,    0,    0,    0],\n",
       "         [ 101, 2003, 1996,  ...,    0,    0,    0]]),\n",
       " tensor([[1, 1, 1,  ..., 0, 0, 0],\n",
       "         [1, 1, 1,  ..., 0, 0, 0],\n",
       "         [1, 1, 1,  ..., 0, 0, 0],\n",
       "         ...,\n",
       "         [1, 1, 1,  ..., 0, 0, 0],\n",
       "         [1, 1, 1,  ..., 0, 0, 0],\n",
       "         [1, 1, 1,  ..., 0, 0, 0]]),\n",
       " tensor([1, 0, 1, 0, 1, 0, 0, 0, 0, 0]))"
      ]
     },
     "execution_count": 8,
     "metadata": {},
     "output_type": "execute_result"
    }
   ],
   "source": [
    "print(len(dataset))\n",
    "dataset[:10]"
   ]
  },
  {
   "cell_type": "markdown",
   "id": "a3b226d5e9330d47",
   "metadata": {
    "collapsed": false
   },
   "source": [
    "## Config 1-8"
   ]
  },
  {
   "cell_type": "code",
   "execution_count": 9,
   "id": "5a16023ef51bad72",
   "metadata": {
    "collapsed": false
   },
   "outputs": [
    {
     "name": "stderr",
     "output_type": "stream",
     "text": [
      "Some weights of BertForSequenceClassification were not initialized from the model checkpoint at bert-base-uncased and are newly initialized: ['classifier.bias', 'classifier.weight']\n",
      "You should probably TRAIN this model on a down-stream task to be able to use it for predictions and inference.\n"
     ]
    },
    {
     "name": "stdout",
     "output_type": "stream",
     "text": [
      "Parameters: \n",
      "    Batch size: 4\n",
      "    Epochs: 25\n",
      "    Learning rate:1e-05\n",
      "\n"
     ]
    },
    {
     "name": "stderr",
     "output_type": "stream",
     "text": [
      "c:\\Users\\Andy Cui\\.conda\\envs\\nlp\\lib\\site-packages\\transformers\\optimization.py:411: FutureWarning: This implementation of AdamW is deprecated and will be removed in a future version. Use the PyTorch implementation torch.optim.AdamW instead, or set `no_deprecation_warning=True` to disable this warning\n",
      "  warnings.warn(\n",
      "Epoch 1: 100%|██████████| 285/285 [00:45<00:00,  6.28it/s, loss=0.373]\n",
      "Epoch 2: 100%|██████████| 285/285 [00:44<00:00,  6.38it/s, loss=0.16]  \n",
      "Epoch 3: 100%|██████████| 285/285 [00:44<00:00,  6.39it/s, loss=0.0619]\n",
      "Epoch 4: 100%|██████████| 285/285 [00:45<00:00,  6.28it/s, loss=0.0326] \n",
      "Epoch 5: 100%|██████████| 285/285 [00:45<00:00,  6.32it/s, loss=0.0193] \n",
      "Epoch 6: 100%|██████████| 285/285 [00:44<00:00,  6.33it/s, loss=0.00126] \n",
      "Epoch 7: 100%|██████████| 285/285 [00:44<00:00,  6.34it/s, loss=0.000776]\n",
      "Epoch 8: 100%|██████████| 285/285 [00:44<00:00,  6.38it/s, loss=0.000549]\n",
      "Epoch 9: 100%|██████████| 285/285 [00:44<00:00,  6.38it/s, loss=0.000417]\n",
      "Epoch 10: 100%|██████████| 285/285 [00:44<00:00,  6.40it/s, loss=0.000338]\n",
      "Epoch 11: 100%|██████████| 285/285 [00:44<00:00,  6.39it/s, loss=0.000253]\n",
      "Epoch 12: 100%|██████████| 285/285 [00:45<00:00,  6.26it/s, loss=0.000209]\n",
      "Epoch 13: 100%|██████████| 285/285 [00:44<00:00,  6.41it/s, loss=0.00017] \n",
      "Epoch 14: 100%|██████████| 285/285 [00:45<00:00,  6.25it/s, loss=0.000139]\n",
      "Epoch 15: 100%|██████████| 285/285 [00:45<00:00,  6.33it/s, loss=0.000115]\n",
      "Epoch 16: 100%|██████████| 285/285 [00:44<00:00,  6.38it/s, loss=9.9e-5] \n",
      "Epoch 17: 100%|██████████| 285/285 [00:44<00:00,  6.43it/s, loss=8.34e-5]\n",
      "Epoch 18: 100%|██████████| 285/285 [00:44<00:00,  6.40it/s, loss=0.076] \n",
      "Epoch 19: 100%|██████████| 285/285 [00:44<00:00,  6.42it/s, loss=0.0637] \n",
      "Epoch 20: 100%|██████████| 285/285 [00:44<00:00,  6.39it/s, loss=0.0117]  \n",
      "Epoch 21: 100%|██████████| 285/285 [00:44<00:00,  6.44it/s, loss=0.0163] \n",
      "Epoch 22: 100%|██████████| 285/285 [00:44<00:00,  6.46it/s, loss=0.00106] \n",
      "Epoch 23: 100%|██████████| 285/285 [00:43<00:00,  6.48it/s, loss=0.000257]\n",
      "Epoch 24: 100%|██████████| 285/285 [00:43<00:00,  6.48it/s, loss=0.000176]\n",
      "Epoch 25: 100%|██████████| 285/285 [00:44<00:00,  6.45it/s, loss=0.000137]\n"
     ]
    },
    {
     "name": "stdout",
     "output_type": "stream",
     "text": [
      "Loss on training: [0.3728603225397436, 0.1595429493424793, 0.061851121319392535, 0.03263494303539853, 0.019264916288911513, 0.0012607566093241697, 0.0007756983959361127, 0.0005494942424998602, 0.0004166449720893676, 0.0003377624296199269, 0.0002534672869124303, 0.00020883632200900792, 0.00016970583842760932, 0.00013902669414069113, 0.0001151190109994148, 9.90145510928542e-05, 8.343303620278133e-05, 0.07604774169001183, 0.06365864756414993, 0.01173559029034151, 0.016309166439092034, 0.0010589074847909311, 0.00025663965168764424, 0.000176008670946191, 0.0001365924863197857]\n"
     ]
    },
    {
     "name": "stderr",
     "output_type": "stream",
     "text": [
      "Evaluating: 100%|██████████| 123/123 [00:05<00:00, 22.60it/s]\n"
     ]
    },
    {
     "name": "stdout",
     "output_type": "stream",
     "text": [
      "Accuracy on test set: 0.9570552147239264\n"
     ]
    },
    {
     "data": {
      "image/png": "[encoded data removed]",
      "text/plain": [
       "<Figure size 640x480 with 1 Axes>"
      ]
     },
     "metadata": {},
     "output_type": "display_data"
    },
    {
     "name": "stderr",
     "output_type": "stream",
     "text": [
      "Some weights of BertForSequenceClassification were not initialized from the model checkpoint at bert-base-uncased and are newly initialized: ['classifier.bias', 'classifier.weight']\n",
      "You should probably TRAIN this model on a down-stream task to be able to use it for predictions and inference.\n",
      "c:\\Users\\Andy Cui\\.conda\\envs\\nlp\\lib\\site-packages\\transformers\\optimization.py:411: FutureWarning: This implementation of AdamW is deprecated and will be removed in a future version. Use the PyTorch implementation torch.optim.AdamW instead, or set `no_deprecation_warning=True` to disable this warning\n",
      "  warnings.warn(\n"
     ]
    },
    {
     "name": "stdout",
     "output_type": "stream",
     "text": [
      "Parameters: \n",
      "    Batch size: 4\n",
      "    Epochs: 25\n",
      "    Learning rate:0.0001\n",
      "\n"
     ]
    },
    {
     "name": "stderr",
     "output_type": "stream",
     "text": [
      "Epoch 1: 100%|██████████| 285/285 [00:44<00:00,  6.46it/s, loss=0.357]\n",
      "Epoch 2: 100%|██████████| 285/285 [00:43<00:00,  6.48it/s, loss=0.138] \n",
      "Epoch 3: 100%|██████████| 285/285 [00:43<00:00,  6.49it/s, loss=0.0538]\n",
      "Epoch 4: 100%|██████████| 285/285 [00:44<00:00,  6.44it/s, loss=0.0367] \n",
      "Epoch 5: 100%|██████████| 285/285 [00:44<00:00,  6.43it/s, loss=0.0271]\n",
      "Epoch 6: 100%|██████████| 285/285 [00:44<00:00,  6.44it/s, loss=0.00145] \n",
      "Epoch 7: 100%|██████████| 285/285 [00:44<00:00,  6.46it/s, loss=0.000831]\n",
      "Epoch 8: 100%|██████████| 285/285 [00:44<00:00,  6.45it/s, loss=0.000481]\n",
      "Epoch 9: 100%|██████████| 285/285 [00:44<00:00,  6.44it/s, loss=0.000353]\n",
      "Epoch 10: 100%|██████████| 285/285 [00:44<00:00,  6.45it/s, loss=0.000266]\n",
      "Epoch 11: 100%|██████████| 285/285 [00:44<00:00,  6.47it/s, loss=0.000213]\n",
      "Epoch 12: 100%|██████████| 285/285 [00:44<00:00,  6.41it/s, loss=0.000171]\n",
      "Epoch 13: 100%|██████████| 285/285 [00:44<00:00,  6.44it/s, loss=0.000139]\n",
      "Epoch 14: 100%|██████████| 285/285 [00:44<00:00,  6.41it/s, loss=0.000119]\n",
      "Epoch 15: 100%|██████████| 285/285 [00:45<00:00,  6.31it/s, loss=9.74e-5]\n",
      "Epoch 16: 100%|██████████| 285/285 [00:44<00:00,  6.35it/s, loss=8.45e-5]\n",
      "Epoch 17: 100%|██████████| 285/285 [00:43<00:00,  6.56it/s, loss=6.93e-5]\n",
      "Epoch 18: 100%|██████████| 285/285 [00:43<00:00,  6.55it/s, loss=5.81e-5]\n",
      "Epoch 19: 100%|██████████| 285/285 [00:43<00:00,  6.59it/s, loss=4.93e-5]\n",
      "Epoch 20: 100%|██████████| 285/285 [00:42<00:00,  6.63it/s, loss=4.34e-5]\n",
      "Epoch 21: 100%|██████████| 285/285 [00:43<00:00,  6.62it/s, loss=3.77e-5]\n",
      "Epoch 22: 100%|██████████| 285/285 [00:43<00:00,  6.61it/s, loss=3.21e-5]\n",
      "Epoch 23: 100%|██████████| 285/285 [00:43<00:00,  6.59it/s, loss=2.77e-5]\n",
      "Epoch 24: 100%|██████████| 285/285 [00:43<00:00,  6.60it/s, loss=2.45e-5]\n",
      "Epoch 25: 100%|██████████| 285/285 [00:44<00:00,  6.43it/s, loss=2.11e-5]\n"
     ]
    },
    {
     "name": "stdout",
     "output_type": "stream",
     "text": [
      "Loss on training: [0.35690931618997923, 0.1381112632619446, 0.05376501740364913, 0.036748769423483235, 0.027103278931361018, 0.0014534329182648083, 0.0008310504609988512, 0.0004807028880653282, 0.00035338942140234603, 0.00026572233550005447, 0.00021320766488012546, 0.00017075575168220032, 0.00013928059779573233, 0.00011894981315044947, 9.741357050523603e-05, 8.453160225415782e-05, 6.931088001900271e-05, 5.810359342783494e-05, 4.9327605972250335e-05, 4.341388246980945e-05, 3.76944810436965e-05, 3.2086907639607316e-05, 2.767802957111455e-05, 2.452595636944017e-05, 2.1106108001651846e-05]\n"
     ]
    },
    {
     "name": "stderr",
     "output_type": "stream",
     "text": [
      "Evaluating: 100%|██████████| 123/123 [00:05<00:00, 22.80it/s]\n"
     ]
    },
    {
     "name": "stdout",
     "output_type": "stream",
     "text": [
      "Accuracy on test set: 0.9468302658486708\n"
     ]
    },
    {
     "data": {
      "image/png": "[encoded data removed]",
      "text/plain": [
       "<Figure size 640x480 with 1 Axes>"
      ]
     },
     "metadata": {},
     "output_type": "display_data"
    },
    {
     "name": "stderr",
     "output_type": "stream",
     "text": [
      "Some weights of BertForSequenceClassification were not initialized from the model checkpoint at bert-base-uncased and are newly initialized: ['classifier.bias', 'classifier.weight']\n",
      "You should probably TRAIN this model on a down-stream task to be able to use it for predictions and inference.\n",
      "c:\\Users\\Andy Cui\\.conda\\envs\\nlp\\lib\\site-packages\\transformers\\optimization.py:411: FutureWarning: This implementation of AdamW is deprecated and will be removed in a future version. Use the PyTorch implementation torch.optim.AdamW instead, or set `no_deprecation_warning=True` to disable this warning\n",
      "  warnings.warn(\n"
     ]
    },
    {
     "name": "stdout",
     "output_type": "stream",
     "text": [
      "Parameters: \n",
      "    Batch size: 4\n",
      "    Epochs: 30\n",
      "    Learning rate:1e-05\n",
      "\n"
     ]
    },
    {
     "name": "stderr",
     "output_type": "stream",
     "text": [
      "Epoch 1: 100%|██████████| 285/285 [00:44<00:00,  6.41it/s, loss=0.398]\n",
      "Epoch 2: 100%|██████████| 285/285 [00:44<00:00,  6.44it/s, loss=0.238] \n",
      "Epoch 3: 100%|██████████| 285/285 [00:44<00:00,  6.45it/s, loss=0.109] \n",
      "Epoch 4: 100%|██████████| 285/285 [00:44<00:00,  6.38it/s, loss=0.0484] \n",
      "Epoch 5: 100%|██████████| 285/285 [00:44<00:00,  6.37it/s, loss=0.0281] \n",
      "Epoch 6: 100%|██████████| 285/285 [00:44<00:00,  6.36it/s, loss=0.0377] \n",
      "Epoch 7: 100%|██████████| 285/285 [00:44<00:00,  6.37it/s, loss=0.0398] \n",
      "Epoch 8: 100%|██████████| 285/285 [00:44<00:00,  6.45it/s, loss=0.00403]\n",
      "Epoch 9: 100%|██████████| 285/285 [00:43<00:00,  6.53it/s, loss=0.000948]\n",
      "Epoch 10: 100%|██████████| 285/285 [00:44<00:00,  6.42it/s, loss=0.00459] \n",
      "Epoch 11: 100%|██████████| 285/285 [00:44<00:00,  6.44it/s, loss=0.000572]\n",
      "Epoch 12: 100%|██████████| 285/285 [00:43<00:00,  6.49it/s, loss=0.000364]\n",
      "Epoch 13: 100%|██████████| 285/285 [00:43<00:00,  6.55it/s, loss=0.0765]  \n",
      "Epoch 14: 100%|██████████| 285/285 [00:41<00:00,  6.88it/s, loss=0.0201] \n",
      "Epoch 15: 100%|██████████| 285/285 [00:42<00:00,  6.76it/s, loss=0.00141] \n",
      "Epoch 16: 100%|██████████| 285/285 [00:42<00:00,  6.72it/s, loss=0.000378]\n",
      "Epoch 17: 100%|██████████| 285/285 [00:42<00:00,  6.75it/s, loss=0.000277]\n",
      "Epoch 18: 100%|██████████| 285/285 [00:41<00:00,  6.92it/s, loss=0.000208]\n",
      "Epoch 19: 100%|██████████| 285/285 [00:41<00:00,  6.90it/s, loss=0.000155]\n",
      "Epoch 20: 100%|██████████| 285/285 [00:41<00:00,  6.89it/s, loss=0.000126]\n",
      "Epoch 21: 100%|██████████| 285/285 [00:41<00:00,  6.85it/s, loss=0.00011] \n",
      "Epoch 22: 100%|██████████| 285/285 [00:41<00:00,  6.87it/s, loss=8.22e-5]\n",
      "Epoch 23: 100%|██████████| 285/285 [00:41<00:00,  6.90it/s, loss=7.17e-5]\n",
      "Epoch 24: 100%|██████████| 285/285 [00:40<00:00,  6.95it/s, loss=5.88e-5]\n",
      "Epoch 25: 100%|██████████| 285/285 [00:40<00:00,  7.03it/s, loss=5.16e-5]\n",
      "Epoch 26: 100%|██████████| 285/285 [00:40<00:00,  7.02it/s, loss=4.44e-5]\n",
      "Epoch 27: 100%|██████████| 285/285 [00:40<00:00,  7.00it/s, loss=3.86e-5]\n",
      "Epoch 28: 100%|██████████| 285/285 [00:40<00:00,  7.05it/s, loss=3.47e-5]\n",
      "Epoch 29: 100%|██████████| 285/285 [00:40<00:00,  7.01it/s, loss=2.84e-5]\n",
      "Epoch 30: 100%|██████████| 285/285 [00:40<00:00,  7.02it/s, loss=2.49e-5]\n"
     ]
    },
    {
     "name": "stdout",
     "output_type": "stream",
     "text": [
      "Loss on training: [0.3983791684372383, 0.23780503551426688, 0.10890476805435723, 0.04841021614132874, 0.028136948333121838, 0.037726678576916785, 0.039828131359944674, 0.004031372161504502, 0.0009477131381189745, 0.0045883520946964585, 0.0005715468706942997, 0.0003637235166439623, 0.07650427024391798, 0.020060825686934486, 0.0014054534455920618, 0.00037801638306853805, 0.00027650305549430316, 0.00020797239144724843, 0.00015463403192769506, 0.0001256919729808272, 0.00010997386094746425, 8.215038113504355e-05, 7.174736017253038e-05, 5.881307952222414e-05, 5.1640447494910885e-05, 4.438343501278085e-05, 3.8598988670089873e-05, 3.473970353202037e-05, 2.843091708455815e-05, 2.4920972955761387e-05]\n"
     ]
    },
    {
     "name": "stderr",
     "output_type": "stream",
     "text": [
      "Evaluating: 100%|██████████| 123/123 [00:05<00:00, 24.59it/s]\n"
     ]
    },
    {
     "name": "stdout",
     "output_type": "stream",
     "text": [
      "Accuracy on test set: 0.9366053169734151\n"
     ]
    },
    {
     "data": {
      "image/png": "[encoded data removed]",
      "text/plain": [
       "<Figure size 640x480 with 1 Axes>"
      ]
     },
     "metadata": {},
     "output_type": "display_data"
    },
    {
     "name": "stderr",
     "output_type": "stream",
     "text": [
      "Some weights of BertForSequenceClassification were not initialized from the model checkpoint at bert-base-uncased and are newly initialized: ['classifier.bias', 'classifier.weight']\n",
      "You should probably TRAIN this model on a down-stream task to be able to use it for predictions and inference.\n",
      "c:\\Users\\Andy Cui\\.conda\\envs\\nlp\\lib\\site-packages\\transformers\\optimization.py:411: FutureWarning: This implementation of AdamW is deprecated and will be removed in a future version. Use the PyTorch implementation torch.optim.AdamW instead, or set `no_deprecation_warning=True` to disable this warning\n",
      "  warnings.warn(\n"
     ]
    },
    {
     "name": "stdout",
     "output_type": "stream",
     "text": [
      "Parameters: \n",
      "    Batch size: 4\n",
      "    Epochs: 30\n",
      "    Learning rate:0.0001\n",
      "\n"
     ]
    },
    {
     "name": "stderr",
     "output_type": "stream",
     "text": [
      "Epoch 1: 100%|██████████| 285/285 [00:40<00:00,  7.02it/s, loss=0.396]\n",
      "Epoch 2: 100%|██████████| 285/285 [00:40<00:00,  7.02it/s, loss=0.164] \n",
      "Epoch 3: 100%|██████████| 285/285 [00:40<00:00,  7.01it/s, loss=0.061]  \n",
      "Epoch 4: 100%|██████████| 285/285 [00:40<00:00,  7.03it/s, loss=0.046] \n",
      "Epoch 5: 100%|██████████| 285/285 [00:40<00:00,  7.05it/s, loss=0.00696]\n",
      "Epoch 6: 100%|██████████| 285/285 [00:40<00:00,  7.05it/s, loss=0.00059] \n",
      "Epoch 7: 100%|██████████| 285/285 [00:40<00:00,  7.04it/s, loss=0.000465]\n",
      "Epoch 8: 100%|██████████| 285/285 [00:40<00:00,  7.05it/s, loss=0.000269]\n",
      "Epoch 9: 100%|██████████| 285/285 [00:40<00:00,  7.04it/s, loss=0.000203]\n",
      "Epoch 10: 100%|██████████| 285/285 [00:40<00:00,  7.05it/s, loss=0.000198]\n",
      "Epoch 11: 100%|██████████| 285/285 [00:40<00:00,  7.04it/s, loss=0.0718]  \n",
      "Epoch 12: 100%|██████████| 285/285 [00:40<00:00,  7.04it/s, loss=0.0836] \n",
      "Epoch 13: 100%|██████████| 285/285 [00:40<00:00,  7.02it/s, loss=0.0196] \n",
      "Epoch 14: 100%|██████████| 285/285 [00:40<00:00,  7.04it/s, loss=0.0158]\n",
      "Epoch 15: 100%|██████████| 285/285 [00:40<00:00,  7.04it/s, loss=0.000621]\n",
      "Epoch 16: 100%|██████████| 285/285 [00:40<00:00,  7.03it/s, loss=0.00024] \n",
      "Epoch 17: 100%|██████████| 285/285 [00:40<00:00,  7.04it/s, loss=0.000186]\n",
      "Epoch 18: 100%|██████████| 285/285 [00:40<00:00,  7.03it/s, loss=0.000127]\n",
      "Epoch 19: 100%|██████████| 285/285 [00:40<00:00,  7.04it/s, loss=0.000104]\n",
      "Epoch 20: 100%|██████████| 285/285 [00:40<00:00,  7.04it/s, loss=8.71e-5]\n",
      "Epoch 21: 100%|██████████| 285/285 [00:40<00:00,  7.03it/s, loss=6.94e-5]\n",
      "Epoch 22: 100%|██████████| 285/285 [00:40<00:00,  7.03it/s, loss=6.05e-5]\n",
      "Epoch 23: 100%|██████████| 285/285 [00:40<00:00,  7.03it/s, loss=5.13e-5]\n",
      "Epoch 24: 100%|██████████| 285/285 [00:40<00:00,  7.04it/s, loss=4.2e-5] \n",
      "Epoch 25: 100%|██████████| 285/285 [00:40<00:00,  7.04it/s, loss=3.79e-5]\n",
      "Epoch 26: 100%|██████████| 285/285 [00:40<00:00,  7.04it/s, loss=3.16e-5]\n",
      "Epoch 27: 100%|██████████| 285/285 [00:40<00:00,  7.03it/s, loss=2.77e-5]\n",
      "Epoch 28: 100%|██████████| 285/285 [00:40<00:00,  7.02it/s, loss=2.48e-5]\n",
      "Epoch 29: 100%|██████████| 285/285 [00:41<00:00,  6.87it/s, loss=2.12e-5]\n",
      "Epoch 30: 100%|██████████| 285/285 [00:42<00:00,  6.66it/s, loss=1.91e-5]\n"
     ]
    },
    {
     "name": "stdout",
     "output_type": "stream",
     "text": [
      "Loss on training: [0.39589022244735245, 0.16369920243067962, 0.061010796323483975, 0.046036071573759905, 0.0069605248503329786, 0.000589694246075835, 0.00046498795645515714, 0.00026943534081638385, 0.00020308298326358852, 0.00019750182448963945, 0.07176045661885598, 0.08355385805704843, 0.01957161137946522, 0.015824372113045108, 0.0006205886387441863, 0.00024031586893997564, 0.00018602138006826863, 0.00012690427673780441, 0.00010392707009215659, 8.710881946873933e-05, 6.938176828267037e-05, 6.049591609457581e-05, 5.131427484197877e-05, 4.203188605938442e-05, 3.791109270343696e-05, 3.155920615091944e-05, 2.7707141373212562e-05, 2.4764115254296675e-05, 2.115331638043771e-05, 1.9081308681435124e-05]\n"
     ]
    },
    {
     "name": "stderr",
     "output_type": "stream",
     "text": [
      "Evaluating: 100%|██████████| 123/123 [00:05<00:00, 22.92it/s]\n"
     ]
    },
    {
     "name": "stdout",
     "output_type": "stream",
     "text": [
      "Accuracy on test set: 0.9263803680981595\n"
     ]
    },
    {
     "data": {
      "image/png": "[encoded data removed]",
      "text/plain": [
       "<Figure size 640x480 with 1 Axes>"
      ]
     },
     "metadata": {},
     "output_type": "display_data"
    },
    {
     "name": "stderr",
     "output_type": "stream",
     "text": [
      "Some weights of BertForSequenceClassification were not initialized from the model checkpoint at bert-base-uncased and are newly initialized: ['classifier.bias', 'classifier.weight']\n",
      "You should probably TRAIN this model on a down-stream task to be able to use it for predictions and inference.\n",
      "c:\\Users\\Andy Cui\\.conda\\envs\\nlp\\lib\\site-packages\\transformers\\optimization.py:411: FutureWarning: This implementation of AdamW is deprecated and will be removed in a future version. Use the PyTorch implementation torch.optim.AdamW instead, or set `no_deprecation_warning=True` to disable this warning\n",
      "  warnings.warn(\n"
     ]
    },
    {
     "name": "stdout",
     "output_type": "stream",
     "text": [
      "Parameters: \n",
      "    Batch size: 8\n",
      "    Epochs: 25\n",
      "    Learning rate:1e-05\n",
      "\n"
     ]
    },
    {
     "name": "stderr",
     "output_type": "stream",
     "text": [
      "Epoch 1: 100%|██████████| 143/143 [00:38<00:00,  3.71it/s, loss=0.465]\n",
      "Epoch 2: 100%|██████████| 143/143 [00:38<00:00,  3.72it/s, loss=0.242]\n",
      "Epoch 3: 100%|██████████| 143/143 [00:38<00:00,  3.75it/s, loss=0.116] \n",
      "Epoch 4: 100%|██████████| 143/143 [00:37<00:00,  3.78it/s, loss=0.0497]\n",
      "Epoch 5: 100%|██████████| 143/143 [00:38<00:00,  3.72it/s, loss=0.054] \n",
      "Epoch 6: 100%|██████████| 143/143 [00:37<00:00,  3.77it/s, loss=0.0257]\n",
      "Epoch 7: 100%|██████████| 143/143 [00:37<00:00,  3.78it/s, loss=0.0142] \n",
      "Epoch 8: 100%|██████████| 143/143 [00:38<00:00,  3.73it/s, loss=0.00734]\n",
      "Epoch 9: 100%|██████████| 143/143 [00:37<00:00,  3.83it/s, loss=0.0309] \n",
      "Epoch 10: 100%|██████████| 143/143 [00:37<00:00,  3.83it/s, loss=0.00383]\n",
      "Epoch 11: 100%|██████████| 143/143 [00:37<00:00,  3.78it/s, loss=0.00314] \n",
      "Epoch 12: 100%|██████████| 143/143 [00:35<00:00,  4.02it/s, loss=0.000851]\n",
      "Epoch 13: 100%|██████████| 143/143 [00:35<00:00,  4.02it/s, loss=0.000748]\n",
      "Epoch 14: 100%|██████████| 143/143 [00:35<00:00,  3.97it/s, loss=0.000526]\n",
      "Epoch 15: 100%|██████████| 143/143 [00:36<00:00,  3.94it/s, loss=0.000441]\n",
      "Epoch 16: 100%|██████████| 143/143 [00:38<00:00,  3.73it/s, loss=0.000361]\n",
      "Epoch 17: 100%|██████████| 143/143 [00:37<00:00,  3.82it/s, loss=0.000306]\n",
      "Epoch 18: 100%|██████████| 143/143 [00:37<00:00,  3.82it/s, loss=0.000263]\n",
      "Epoch 19: 100%|██████████| 143/143 [00:37<00:00,  3.83it/s, loss=0.00023] \n",
      "Epoch 20: 100%|██████████| 143/143 [00:37<00:00,  3.82it/s, loss=0.000214]\n",
      "Epoch 21: 100%|██████████| 143/143 [00:37<00:00,  3.82it/s, loss=0.000431]\n",
      "Epoch 22: 100%|██████████| 143/143 [00:37<00:00,  3.85it/s, loss=0.000229]\n",
      "Epoch 23: 100%|██████████| 143/143 [00:37<00:00,  3.82it/s, loss=0.000154]\n",
      "Epoch 24: 100%|██████████| 143/143 [00:37<00:00,  3.81it/s, loss=0.000134]\n",
      "Epoch 25: 100%|██████████| 143/143 [00:38<00:00,  3.74it/s, loss=0.000118]\n"
     ]
    },
    {
     "name": "stdout",
     "output_type": "stream",
     "text": [
      "Loss on training: [0.46534037121109195, 0.24213772212396134, 0.11558574031699788, 0.04966446809092914, 0.05395330854698078, 0.02573331059901031, 0.014245532511674857, 0.007338785965295209, 0.030871224329543097, 0.0038344307665849897, 0.0031381822993060563, 0.0008514482606124211, 0.0007482013560121658, 0.0005264691318551378, 0.00044097879150934463, 0.00036123192012700795, 0.000306043433293316, 0.00026259801203590147, 0.00023023421237883452, 0.00021366024960949365, 0.0004312299468539903, 0.0002289887735358817, 0.00015404376044008113, 0.0001335609879286087, 0.00011848464502970903]\n"
     ]
    },
    {
     "name": "stderr",
     "output_type": "stream",
     "text": [
      "Evaluating: 100%|██████████| 62/62 [00:05<00:00, 12.00it/s]\n"
     ]
    },
    {
     "name": "stdout",
     "output_type": "stream",
     "text": [
      "Accuracy on test set: 0.9427402862985685\n"
     ]
    },
    {
     "data": {
      "image/png": "[encoded data removed]",
      "text/plain": [
       "<Figure size 640x480 with 1 Axes>"
      ]
     },
     "metadata": {},
     "output_type": "display_data"
    },
    {
     "name": "stderr",
     "output_type": "stream",
     "text": [
      "Some weights of BertForSequenceClassification were not initialized from the model checkpoint at bert-base-uncased and are newly initialized: ['classifier.bias', 'classifier.weight']\n",
      "You should probably TRAIN this model on a down-stream task to be able to use it for predictions and inference.\n",
      "c:\\Users\\Andy Cui\\.conda\\envs\\nlp\\lib\\site-packages\\transformers\\optimization.py:411: FutureWarning: This implementation of AdamW is deprecated and will be removed in a future version. Use the PyTorch implementation torch.optim.AdamW instead, or set `no_deprecation_warning=True` to disable this warning\n",
      "  warnings.warn(\n"
     ]
    },
    {
     "name": "stdout",
     "output_type": "stream",
     "text": [
      "Parameters: \n",
      "    Batch size: 8\n",
      "    Epochs: 25\n",
      "    Learning rate:0.0001\n",
      "\n"
     ]
    },
    {
     "name": "stderr",
     "output_type": "stream",
     "text": [
      "Epoch 1: 100%|██████████| 143/143 [00:38<00:00,  3.69it/s, loss=0.372]\n",
      "Epoch 2: 100%|██████████| 143/143 [00:37<00:00,  3.85it/s, loss=0.127] \n",
      "Epoch 3: 100%|██████████| 143/143 [00:37<00:00,  3.79it/s, loss=0.0489]\n",
      "Epoch 4: 100%|██████████| 143/143 [00:37<00:00,  3.81it/s, loss=0.0407] \n",
      "Epoch 5: 100%|██████████| 143/143 [00:37<00:00,  3.83it/s, loss=0.0161]\n",
      "Epoch 6: 100%|██████████| 143/143 [00:36<00:00,  3.97it/s, loss=0.00471]\n",
      "Epoch 7: 100%|██████████| 143/143 [00:36<00:00,  3.91it/s, loss=0.0214] \n",
      "Epoch 8: 100%|██████████| 143/143 [00:33<00:00,  4.25it/s, loss=0.0251]\n",
      "Epoch 9: 100%|██████████| 143/143 [00:34<00:00,  4.14it/s, loss=0.00869]\n",
      "Epoch 10: 100%|██████████| 143/143 [00:36<00:00,  3.90it/s, loss=0.00448] \n",
      "Epoch 11: 100%|██████████| 143/143 [00:36<00:00,  3.89it/s, loss=0.00109] \n",
      "Epoch 12: 100%|██████████| 143/143 [00:32<00:00,  4.33it/s, loss=0.000475]\n",
      "Epoch 13: 100%|██████████| 143/143 [00:33<00:00,  4.29it/s, loss=0.000328]\n",
      "Epoch 14: 100%|██████████| 143/143 [00:33<00:00,  4.24it/s, loss=0.00031] \n",
      "Epoch 15: 100%|██████████| 143/143 [00:33<00:00,  4.25it/s, loss=0.000276]\n",
      "Epoch 16: 100%|██████████| 143/143 [00:33<00:00,  4.25it/s, loss=0.000191]\n",
      "Epoch 17: 100%|██████████| 143/143 [00:37<00:00,  3.80it/s, loss=0.000174]\n",
      "Epoch 18: 100%|██████████| 143/143 [00:37<00:00,  3.79it/s, loss=0.000167]\n",
      "Epoch 19: 100%|██████████| 143/143 [00:37<00:00,  3.81it/s, loss=0.000139]\n",
      "Epoch 20: 100%|██████████| 143/143 [00:37<00:00,  3.77it/s, loss=0.000157]\n",
      "Epoch 21: 100%|██████████| 143/143 [00:37<00:00,  3.83it/s, loss=0.000116]\n",
      "Epoch 22: 100%|██████████| 143/143 [00:35<00:00,  3.97it/s, loss=0.000103]\n",
      "Epoch 23: 100%|██████████| 143/143 [00:35<00:00,  4.05it/s, loss=8.63e-5]\n",
      "Epoch 24: 100%|██████████| 143/143 [00:36<00:00,  3.97it/s, loss=8.05e-5]\n",
      "Epoch 25: 100%|██████████| 143/143 [00:36<00:00,  3.95it/s, loss=7.09e-5]\n"
     ]
    },
    {
     "name": "stdout",
     "output_type": "stream",
     "text": [
      "Loss on training: [0.3718735849732286, 0.12737644555281613, 0.048931865974075416, 0.04066898835288895, 0.016083747399254486, 0.004708329549016939, 0.021387514204415328, 0.02514700272683888, 0.008692253232645391, 0.004481279156276618, 0.0010946087296596252, 0.0004752334403696346, 0.0003283684614311474, 0.0003100050039551957, 0.0002763356813095295, 0.00019125158927432698, 0.0001744343053042348, 0.00016725267844528636, 0.00013894247759371292, 0.0001568201109844299, 0.00011622645587732013, 0.00010331661061471706, 8.630061792710412e-05, 8.049877614358446e-05, 7.091635398337149e-05]\n"
     ]
    },
    {
     "name": "stderr",
     "output_type": "stream",
     "text": [
      "Evaluating: 100%|██████████| 62/62 [00:04<00:00, 12.87it/s]\n"
     ]
    },
    {
     "name": "stdout",
     "output_type": "stream",
     "text": [
      "Accuracy on test set: 0.934560327198364\n"
     ]
    },
    {
     "data": {
      "image/png": "[encoded data removed]",
      "text/plain": [
       "<Figure size 640x480 with 1 Axes>"
      ]
     },
     "metadata": {},
     "output_type": "display_data"
    },
    {
     "name": "stderr",
     "output_type": "stream",
     "text": [
      "Some weights of BertForSequenceClassification were not initialized from the model checkpoint at bert-base-uncased and are newly initialized: ['classifier.bias', 'classifier.weight']\n",
      "You should probably TRAIN this model on a down-stream task to be able to use it for predictions and inference.\n",
      "c:\\Users\\Andy Cui\\.conda\\envs\\nlp\\lib\\site-packages\\transformers\\optimization.py:411: FutureWarning: This implementation of AdamW is deprecated and will be removed in a future version. Use the PyTorch implementation torch.optim.AdamW instead, or set `no_deprecation_warning=True` to disable this warning\n",
      "  warnings.warn(\n"
     ]
    },
    {
     "name": "stdout",
     "output_type": "stream",
     "text": [
      "Parameters: \n",
      "    Batch size: 8\n",
      "    Epochs: 30\n",
      "    Learning rate:1e-05\n",
      "\n"
     ]
    },
    {
     "name": "stderr",
     "output_type": "stream",
     "text": [
      "Epoch 1: 100%|██████████| 143/143 [00:35<00:00,  4.01it/s, loss=0.39] \n",
      "Epoch 2: 100%|██████████| 143/143 [00:35<00:00,  3.99it/s, loss=0.184] \n",
      "Epoch 3: 100%|██████████| 143/143 [00:36<00:00,  3.88it/s, loss=0.0692]\n",
      "Epoch 4: 100%|██████████| 143/143 [00:37<00:00,  3.81it/s, loss=0.0274] \n",
      "Epoch 5: 100%|██████████| 143/143 [00:37<00:00,  3.86it/s, loss=0.0273] \n",
      "Epoch 6: 100%|██████████| 143/143 [00:37<00:00,  3.86it/s, loss=0.019] \n",
      "Epoch 7: 100%|██████████| 143/143 [00:37<00:00,  3.81it/s, loss=0.00491]\n",
      "Epoch 8: 100%|██████████| 143/143 [00:34<00:00,  4.17it/s, loss=0.00876]\n",
      "Epoch 9: 100%|██████████| 143/143 [00:34<00:00,  4.16it/s, loss=0.0284]\n",
      "Epoch 10: 100%|██████████| 143/143 [00:34<00:00,  4.13it/s, loss=0.00584] \n",
      "Epoch 11: 100%|██████████| 143/143 [00:34<00:00,  4.12it/s, loss=0.00213]\n",
      "Epoch 12: 100%|██████████| 143/143 [00:36<00:00,  3.96it/s, loss=0.000589]\n",
      "Epoch 13: 100%|██████████| 143/143 [00:36<00:00,  3.97it/s, loss=0.000254]\n",
      "Epoch 14: 100%|██████████| 143/143 [00:36<00:00,  3.95it/s, loss=0.000187]\n",
      "Epoch 15: 100%|██████████| 143/143 [00:36<00:00,  3.97it/s, loss=0.000175]\n",
      "Epoch 16: 100%|██████████| 143/143 [00:36<00:00,  3.95it/s, loss=0.000141]\n",
      "Epoch 17: 100%|██████████| 143/143 [00:36<00:00,  3.96it/s, loss=0.000152]\n",
      "Epoch 18: 100%|██████████| 143/143 [00:36<00:00,  3.95it/s, loss=0.000101]\n",
      "Epoch 19: 100%|██████████| 143/143 [00:36<00:00,  3.94it/s, loss=7.95e-5]\n",
      "Epoch 20: 100%|██████████| 143/143 [00:36<00:00,  3.92it/s, loss=7.25e-5]\n",
      "Epoch 21: 100%|██████████| 143/143 [00:36<00:00,  3.91it/s, loss=7e-5]   \n",
      "Epoch 22: 100%|██████████| 143/143 [00:37<00:00,  3.79it/s, loss=6.21e-5]\n",
      "Epoch 23: 100%|██████████| 143/143 [00:36<00:00,  3.87it/s, loss=5.45e-5]\n",
      "Epoch 24: 100%|██████████| 143/143 [00:36<00:00,  3.88it/s, loss=5.14e-5]\n",
      "Epoch 25: 100%|██████████| 143/143 [00:37<00:00,  3.79it/s, loss=5.33e-5]\n",
      "Epoch 26: 100%|██████████| 143/143 [00:37<00:00,  3.86it/s, loss=4.57e-5]\n",
      "Epoch 27: 100%|██████████| 143/143 [00:36<00:00,  3.88it/s, loss=3.76e-5]\n",
      "Epoch 28: 100%|██████████| 143/143 [00:36<00:00,  3.92it/s, loss=3.66e-5]\n",
      "Epoch 29: 100%|██████████| 143/143 [00:36<00:00,  3.91it/s, loss=3.25e-5]\n",
      "Epoch 30: 100%|██████████| 143/143 [00:36<00:00,  3.90it/s, loss=3.03e-5]\n"
     ]
    },
    {
     "name": "stdout",
     "output_type": "stream",
     "text": [
      "Loss on training: [0.3904003064844992, 0.18365405161272397, 0.06921578033898886, 0.027396978305691815, 0.027302698045399143, 0.019034763209121237, 0.004909429539416728, 0.008756036864482909, 0.028448599951493982, 0.0058378839002998706, 0.002129754528217669, 0.0005893640527892467, 0.0002536722139876264, 0.00018672251696755354, 0.0001745361333995426, 0.00014062511972379643, 0.00015174155815511004, 0.0001005324440128235, 7.950291717327297e-05, 7.248241535263377e-05, 7.00487759207714e-05, 6.210519063165997e-05, 5.4500454753251437e-05, 5.135568355106736e-05, 5.3308894427312486e-05, 4.568818770745896e-05, 3.7622912726861626e-05, 3.662106343011789e-05, 3.2500887004812445e-05, 3.0255398685169582e-05]\n"
     ]
    },
    {
     "name": "stderr",
     "output_type": "stream",
     "text": [
      "Evaluating: 100%|██████████| 62/62 [00:05<00:00, 11.92it/s]\n"
     ]
    },
    {
     "name": "stdout",
     "output_type": "stream",
     "text": [
      "Accuracy on test set: 0.9366053169734151\n"
     ]
    },
    {
     "data": {
      "image/png": "[encoded data removed]",
      "text/plain": [
       "<Figure size 640x480 with 1 Axes>"
      ]
     },
     "metadata": {},
     "output_type": "display_data"
    },
    {
     "name": "stderr",
     "output_type": "stream",
     "text": [
      "Some weights of BertForSequenceClassification were not initialized from the model checkpoint at bert-base-uncased and are newly initialized: ['classifier.bias', 'classifier.weight']\n",
      "You should probably TRAIN this model on a down-stream task to be able to use it for predictions and inference.\n",
      "c:\\Users\\Andy Cui\\.conda\\envs\\nlp\\lib\\site-packages\\transformers\\optimization.py:411: FutureWarning: This implementation of AdamW is deprecated and will be removed in a future version. Use the PyTorch implementation torch.optim.AdamW instead, or set `no_deprecation_warning=True` to disable this warning\n",
      "  warnings.warn(\n"
     ]
    },
    {
     "name": "stdout",
     "output_type": "stream",
     "text": [
      "Parameters: \n",
      "    Batch size: 8\n",
      "    Epochs: 30\n",
      "    Learning rate:0.0001\n",
      "\n"
     ]
    },
    {
     "name": "stderr",
     "output_type": "stream",
     "text": [
      "Epoch 1: 100%|██████████| 143/143 [00:38<00:00,  3.75it/s, loss=0.402]\n",
      "Epoch 2: 100%|██████████| 143/143 [00:37<00:00,  3.78it/s, loss=0.181]\n",
      "Epoch 3: 100%|██████████| 143/143 [00:37<00:00,  3.83it/s, loss=0.0827]\n",
      "Epoch 4: 100%|██████████| 143/143 [00:37<00:00,  3.82it/s, loss=0.0523]\n",
      "Epoch 5: 100%|██████████| 143/143 [00:37<00:00,  3.79it/s, loss=0.0173]\n",
      "Epoch 6: 100%|██████████| 143/143 [00:38<00:00,  3.69it/s, loss=0.0368]\n",
      "Epoch 7: 100%|██████████| 143/143 [00:37<00:00,  3.77it/s, loss=0.0143] \n",
      "Epoch 8: 100%|██████████| 143/143 [00:37<00:00,  3.80it/s, loss=0.00771]\n",
      "Epoch 9: 100%|██████████| 143/143 [00:37<00:00,  3.80it/s, loss=0.000812]\n",
      "Epoch 10: 100%|██████████| 143/143 [00:37<00:00,  3.79it/s, loss=0.00128] \n",
      "Epoch 11: 100%|██████████| 143/143 [00:37<00:00,  3.83it/s, loss=0.0069] \n",
      "Epoch 12: 100%|██████████| 143/143 [00:37<00:00,  3.83it/s, loss=0.000412]\n",
      "Epoch 13: 100%|██████████| 143/143 [00:37<00:00,  3.81it/s, loss=0.000301]\n",
      "Epoch 14: 100%|██████████| 143/143 [00:37<00:00,  3.84it/s, loss=0.000254]\n",
      "Epoch 15: 100%|██████████| 143/143 [00:37<00:00,  3.79it/s, loss=0.00021] \n",
      "Epoch 16: 100%|██████████| 143/143 [00:37<00:00,  3.78it/s, loss=0.000183]\n",
      "Epoch 17: 100%|██████████| 143/143 [00:37<00:00,  3.79it/s, loss=0.000168]\n",
      "Epoch 18: 100%|██████████| 143/143 [00:37<00:00,  3.86it/s, loss=0.000135]\n",
      "Epoch 19: 100%|██████████| 143/143 [00:36<00:00,  3.94it/s, loss=0.000116]\n",
      "Epoch 20: 100%|██████████| 143/143 [00:36<00:00,  3.94it/s, loss=0.000108]\n",
      "Epoch 21: 100%|██████████| 143/143 [00:35<00:00,  4.03it/s, loss=0.000101]\n",
      "Epoch 22: 100%|██████████| 143/143 [00:37<00:00,  3.86it/s, loss=8.33e-5]\n",
      "Epoch 23: 100%|██████████| 143/143 [00:36<00:00,  3.97it/s, loss=7.69e-5]\n",
      "Epoch 24: 100%|██████████| 143/143 [00:35<00:00,  4.07it/s, loss=7.04e-5]\n",
      "Epoch 25: 100%|██████████| 143/143 [00:35<00:00,  4.07it/s, loss=6.13e-5]\n",
      "Epoch 26: 100%|██████████| 143/143 [00:33<00:00,  4.25it/s, loss=5.69e-5]\n",
      "Epoch 27: 100%|██████████| 143/143 [00:35<00:00,  4.08it/s, loss=5.4e-5] \n",
      "Epoch 28: 100%|██████████| 143/143 [00:34<00:00,  4.13it/s, loss=4.94e-5]\n",
      "Epoch 29: 100%|██████████| 143/143 [00:34<00:00,  4.11it/s, loss=4.33e-5]\n",
      "Epoch 30: 100%|██████████| 143/143 [00:34<00:00,  4.15it/s, loss=4.07e-5]\n"
     ]
    },
    {
     "name": "stdout",
     "output_type": "stream",
     "text": [
      "Loss on training: [0.4017190036813279, 0.18092734443505745, 0.08273584879055568, 0.05234834711861933, 0.01734882214601588, 0.03676833902808049, 0.014269355966195047, 0.007714981415107117, 0.000812459602126513, 0.0012799818059584204, 0.0069029644203707705, 0.00041208399656730203, 0.00030127265250434043, 0.0002541157708648214, 0.00020963339320460492, 0.00018280641488418296, 0.00016832554332710074, 0.00013499941661183795, 0.00011643072390982595, 0.0001081050483211126, 0.00010095191055052374, 8.33166490261723e-05, 7.691617994149984e-05, 7.041069708778392e-05, 6.13399147718715e-05, 5.694443179445888e-05, 5.401432500147567e-05, 4.9446489318181155e-05, 4.3349363836028343e-05, 4.066928584990336e-05]\n"
     ]
    },
    {
     "name": "stderr",
     "output_type": "stream",
     "text": [
      "Evaluating: 100%|██████████| 62/62 [00:04<00:00, 13.42it/s]\n"
     ]
    },
    {
     "name": "stdout",
     "output_type": "stream",
     "text": [
      "Accuracy on test set: 0.9304703476482618\n"
     ]
    },
    {
     "data": {
      "image/png": "[encoded data removed]",
      "text/plain": [
       "<Figure size 640x480 with 1 Axes>"
      ]
     },
     "metadata": {},
     "output_type": "display_data"
    }
   ],
   "source": [
    "# Parameters\n",
    "batch_size_list = [4, 8]\n",
    "epochs_list = [25, 30]\n",
    "learning_rate_list = [1e-5, 1e-4]\n",
    "\n",
    "for batch_size in batch_size_list:\n",
    "    for epochs in epochs_list:\n",
    "        for learning_rate in learning_rate_list:\n",
    "            model = BertForSequenceClassification.from_pretrained('bert-base-uncased').to(device)\n",
    "            \n",
    "            print(f'Parameters: \\n    Batch size: {batch_size}\\n    Epochs: {epochs}\\n    Learning rate:{learning_rate}\\n')\n",
    "            # Prepare for epoch_losses\n",
    "            epoch_losses = []\n",
    "            \n",
    "            # Create dataloader\n",
    "            train_dataloader = DataLoader(train_dataset, sampler=RandomSampler(train_dataset), batch_size=batch_size)\n",
    "            test_dataloader = DataLoader(test_dataset, sampler=SequentialSampler(test_dataset), batch_size=batch_size)\n",
    "            \n",
    "            # Optimizer\n",
    "            optimizer = AdamW(model.parameters(), lr=2e-5)\n",
    "            \n",
    "            model.train()\n",
    "            \n",
    "            # Training loop\n",
    "            for epoch in range(epochs):\n",
    "                total_loss = 0\n",
    "                progress_bar = tqdm(train_dataloader, desc=f\"Epoch {epoch+1}\")\n",
    "            \n",
    "                for batch in progress_bar:\n",
    "                    # b_input_ids, b_input_mask, b_labels = batch\n",
    "                    b_input_ids, b_input_mask, b_labels = batch[0].to(device), batch[1].to(device), batch[2].to(device)\n",
    "                    model.zero_grad()\n",
    "            \n",
    "                    outputs = model(b_input_ids, token_type_ids=None, attention_mask=b_input_mask, labels=b_labels)\n",
    "                    loss = outputs.loss\n",
    "                    total_loss += loss.item()\n",
    "                    loss.backward()\n",
    "                    optimizer.step()\n",
    "            \n",
    "                    # Update the progress bar\n",
    "                    progress_bar.set_postfix({'loss': total_loss/len(train_dataloader)})\n",
    "                    \n",
    "                # Calculate and store the average loss for this epoch\n",
    "                avg_loss = total_loss / len(train_dataloader)\n",
    "                epoch_losses.append(avg_loss)\n",
    "                \n",
    "                # Save the model after each epoch\n",
    "                # model_save_file = os.path.join(model_save_path, f'bert_model_epoch_{epoch+1}.pt')\n",
    "                # torch.save(model.state_dict(), model_save_file)\n",
    "            \n",
    "                # Closing the progress bar and printing the epoch loss\n",
    "                progress_bar.close()\n",
    "                # print(f\"Epoch {epoch+1} finished. Loss: {total_loss/len(train_dataloader)}\")\n",
    "            print(f'Loss on training: {epoch_losses}')\n",
    "\n",
    "            # Switch to evaluation mode\n",
    "            model.eval()\n",
    "            predictions, true_labels = [], []\n",
    "            # Add tqdm progress bar\n",
    "            for batch in tqdm(test_dataloader, desc=\"Evaluating\"):\n",
    "                batch = tuple(t.to(device) for t in batch)\n",
    "                b_input_ids, b_input_mask, b_labels = batch\n",
    "            \n",
    "                with torch.no_grad():\n",
    "                    outputs = model(b_input_ids, token_type_ids=None, attention_mask=b_input_mask)\n",
    "                \n",
    "                logits = outputs.logits\n",
    "                logits = logits.detach().cpu().numpy()\n",
    "                label_ids = b_labels.to('cpu').numpy()\n",
    "            \n",
    "                batch_preds = np.argmax(logits, axis=1)\n",
    "                predictions.extend(batch_preds)\n",
    "                true_labels.extend(label_ids)\n",
    "            \n",
    "            # Calculate the accuracy\n",
    "            accuracy = accuracy_score(true_labels, predictions)\n",
    "            print(f\"Accuracy on test set: {accuracy}\")\n",
    "\n",
    "            # Plotting the training loss\n",
    "            plt.plot(epoch_losses, label='Training Loss')\n",
    "            plt.xlabel('Epochs')\n",
    "            plt.ylabel('Loss')\n",
    "            plt.title('Training Loss Over Epochs')\n",
    "            plt.legend()\n",
    "            plt.show()"
   ]
  },
  {
   "cell_type": "markdown",
   "id": "4e32cb9c7a9fea54",
   "metadata": {
    "collapsed": false
   },
   "source": [
    "## Config 9"
   ]
  },
  {
   "cell_type": "code",
   "execution_count": 10,
   "id": "3b1881fd2537daf3",
   "metadata": {
    "collapsed": false
   },
   "outputs": [
    {
     "name": "stderr",
     "output_type": "stream",
     "text": [
      "Some weights of BertForSequenceClassification were not initialized from the model checkpoint at bert-base-uncased and are newly initialized: ['classifier.bias', 'classifier.weight']\n",
      "You should probably TRAIN this model on a down-stream task to be able to use it for predictions and inference.\n",
      "c:\\Users\\Andy Cui\\.conda\\envs\\nlp\\lib\\site-packages\\transformers\\optimization.py:411: FutureWarning: This implementation of AdamW is deprecated and will be removed in a future version. Use the PyTorch implementation torch.optim.AdamW instead, or set `no_deprecation_warning=True` to disable this warning\n",
      "  warnings.warn(\n",
      "Epoch 1: 100%|██████████| 570/570 [00:51<00:00, 11.04it/s, loss=0.605]\n"
     ]
    },
    {
     "name": "stdout",
     "output_type": "stream",
     "text": [
      "Epoch 1 finished. Loss: 0.604719248100331\n"
     ]
    },
    {
     "name": "stderr",
     "output_type": "stream",
     "text": [
      "Epoch 2: 100%|██████████| 570/570 [00:52<00:00, 10.96it/s, loss=0.409] \n"
     ]
    },
    {
     "name": "stdout",
     "output_type": "stream",
     "text": [
      "Epoch 2 finished. Loss: 0.4085413656998099\n"
     ]
    },
    {
     "name": "stderr",
     "output_type": "stream",
     "text": [
      "Epoch 3: 100%|██████████| 570/570 [00:52<00:00, 10.95it/s, loss=0.303] \n"
     ]
    },
    {
     "name": "stdout",
     "output_type": "stream",
     "text": [
      "Epoch 3 finished. Loss: 0.3029960371815322\n"
     ]
    },
    {
     "name": "stderr",
     "output_type": "stream",
     "text": [
      "Epoch 4: 100%|██████████| 570/570 [00:52<00:00, 10.93it/s, loss=0.218] \n"
     ]
    },
    {
     "name": "stdout",
     "output_type": "stream",
     "text": [
      "Epoch 4 finished. Loss: 0.21800761774443744\n"
     ]
    },
    {
     "name": "stderr",
     "output_type": "stream",
     "text": [
      "Epoch 5: 100%|██████████| 570/570 [00:51<00:00, 11.05it/s, loss=0.176] \n"
     ]
    },
    {
     "name": "stdout",
     "output_type": "stream",
     "text": [
      "Epoch 5 finished. Loss: 0.1761193873981635\n"
     ]
    },
    {
     "name": "stderr",
     "output_type": "stream",
     "text": [
      "Epoch 6: 100%|██████████| 570/570 [00:51<00:00, 11.06it/s, loss=0.143] \n"
     ]
    },
    {
     "name": "stdout",
     "output_type": "stream",
     "text": [
      "Epoch 6 finished. Loss: 0.143142576022237\n"
     ]
    },
    {
     "name": "stderr",
     "output_type": "stream",
     "text": [
      "Epoch 7: 100%|██████████| 570/570 [00:52<00:00, 10.88it/s, loss=0.104]  \n"
     ]
    },
    {
     "name": "stdout",
     "output_type": "stream",
     "text": [
      "Epoch 7 finished. Loss: 0.1041122071935158\n"
     ]
    },
    {
     "name": "stderr",
     "output_type": "stream",
     "text": [
      "Epoch 8: 100%|██████████| 570/570 [00:53<00:00, 10.69it/s, loss=0.0758]\n"
     ]
    },
    {
     "name": "stdout",
     "output_type": "stream",
     "text": [
      "Epoch 8 finished. Loss: 0.07579711706688007\n"
     ]
    },
    {
     "name": "stderr",
     "output_type": "stream",
     "text": [
      "Epoch 9: 100%|██████████| 570/570 [00:52<00:00, 10.76it/s, loss=0.0624] \n"
     ]
    },
    {
     "name": "stdout",
     "output_type": "stream",
     "text": [
      "Epoch 9 finished. Loss: 0.062416773550865945\n"
     ]
    },
    {
     "name": "stderr",
     "output_type": "stream",
     "text": [
      "Epoch 10: 100%|██████████| 570/570 [00:52<00:00, 10.79it/s, loss=0.0505]\n"
     ]
    },
    {
     "name": "stdout",
     "output_type": "stream",
     "text": [
      "Epoch 10 finished. Loss: 0.05047385521282099\n"
     ]
    },
    {
     "name": "stderr",
     "output_type": "stream",
     "text": [
      "Epoch 11: 100%|██████████| 570/570 [00:52<00:00, 10.89it/s, loss=0.0421] \n"
     ]
    },
    {
     "name": "stdout",
     "output_type": "stream",
     "text": [
      "Epoch 11 finished. Loss: 0.04212044457120723\n"
     ]
    },
    {
     "name": "stderr",
     "output_type": "stream",
     "text": [
      "Epoch 12: 100%|██████████| 570/570 [00:52<00:00, 10.88it/s, loss=0.0345] \n"
     ]
    },
    {
     "name": "stdout",
     "output_type": "stream",
     "text": [
      "Epoch 12 finished. Loss: 0.03450262523215395\n"
     ]
    },
    {
     "name": "stderr",
     "output_type": "stream",
     "text": [
      "Epoch 13: 100%|██████████| 570/570 [00:51<00:00, 10.98it/s, loss=0.0178] \n"
     ]
    },
    {
     "name": "stdout",
     "output_type": "stream",
     "text": [
      "Epoch 13 finished. Loss: 0.01784964993906518\n"
     ]
    },
    {
     "name": "stderr",
     "output_type": "stream",
     "text": [
      "Epoch 14: 100%|██████████| 570/570 [00:52<00:00, 10.96it/s, loss=0.0165] \n"
     ]
    },
    {
     "name": "stdout",
     "output_type": "stream",
     "text": [
      "Epoch 14 finished. Loss: 0.01654869586090443\n"
     ]
    },
    {
     "name": "stderr",
     "output_type": "stream",
     "text": [
      "Epoch 15: 100%|██████████| 570/570 [00:51<00:00, 10.99it/s, loss=0.0152] \n"
     ]
    },
    {
     "name": "stdout",
     "output_type": "stream",
     "text": [
      "Epoch 15 finished. Loss: 0.015175077006049259\n"
     ]
    },
    {
     "name": "stderr",
     "output_type": "stream",
     "text": [
      "Epoch 16: 100%|██████████| 570/570 [00:51<00:00, 11.02it/s, loss=0.00968]\n"
     ]
    },
    {
     "name": "stdout",
     "output_type": "stream",
     "text": [
      "Epoch 16 finished. Loss: 0.009684497025680907\n"
     ]
    },
    {
     "name": "stderr",
     "output_type": "stream",
     "text": [
      "Epoch 17: 100%|██████████| 570/570 [00:51<00:00, 10.98it/s, loss=0.015]  \n"
     ]
    },
    {
     "name": "stdout",
     "output_type": "stream",
     "text": [
      "Epoch 17 finished. Loss: 0.015013688844792022\n"
     ]
    },
    {
     "name": "stderr",
     "output_type": "stream",
     "text": [
      "Epoch 18: 100%|██████████| 570/570 [00:51<00:00, 11.02it/s, loss=0.00429] \n"
     ]
    },
    {
     "name": "stdout",
     "output_type": "stream",
     "text": [
      "Epoch 18 finished. Loss: 0.004290825295519378\n"
     ]
    },
    {
     "name": "stderr",
     "output_type": "stream",
     "text": [
      "Epoch 19: 100%|██████████| 570/570 [00:51<00:00, 11.02it/s, loss=0.014]   \n"
     ]
    },
    {
     "name": "stdout",
     "output_type": "stream",
     "text": [
      "Epoch 19 finished. Loss: 0.013970253145395729\n"
     ]
    },
    {
     "name": "stderr",
     "output_type": "stream",
     "text": [
      "Epoch 20: 100%|██████████| 570/570 [00:51<00:00, 10.96it/s, loss=0.0162] \n"
     ]
    },
    {
     "name": "stdout",
     "output_type": "stream",
     "text": [
      "Epoch 20 finished. Loss: 0.016150779417397357\n"
     ]
    },
    {
     "name": "stderr",
     "output_type": "stream",
     "text": [
      "Epoch 21: 100%|██████████| 570/570 [00:51<00:00, 11.02it/s, loss=0.0187] \n"
     ]
    },
    {
     "name": "stdout",
     "output_type": "stream",
     "text": [
      "Epoch 21 finished. Loss: 0.018710570084237446\n"
     ]
    },
    {
     "name": "stderr",
     "output_type": "stream",
     "text": [
      "Epoch 22: 100%|██████████| 570/570 [00:52<00:00, 10.93it/s, loss=0.0078]  \n"
     ]
    },
    {
     "name": "stdout",
     "output_type": "stream",
     "text": [
      "Epoch 22 finished. Loss: 0.007799731129310665\n"
     ]
    },
    {
     "name": "stderr",
     "output_type": "stream",
     "text": [
      "Epoch 23: 100%|██████████| 570/570 [00:52<00:00, 10.89it/s, loss=0.00294] \n"
     ]
    },
    {
     "name": "stdout",
     "output_type": "stream",
     "text": [
      "Epoch 23 finished. Loss: 0.0029353153321017888\n"
     ]
    },
    {
     "name": "stderr",
     "output_type": "stream",
     "text": [
      "Epoch 24: 100%|██████████| 570/570 [00:53<00:00, 10.64it/s, loss=0.00389] \n"
     ]
    },
    {
     "name": "stdout",
     "output_type": "stream",
     "text": [
      "Epoch 24 finished. Loss: 0.00388891459371192\n"
     ]
    },
    {
     "name": "stderr",
     "output_type": "stream",
     "text": [
      "Epoch 25: 100%|██████████| 570/570 [00:53<00:00, 10.57it/s, loss=0.0111]  \n"
     ]
    },
    {
     "name": "stdout",
     "output_type": "stream",
     "text": [
      "Epoch 25 finished. Loss: 0.011072590641816262\n"
     ]
    },
    {
     "name": "stderr",
     "output_type": "stream",
     "text": [
      "Evaluating: 100%|██████████| 245/245 [00:05<00:00, 42.48it/s]\n"
     ]
    },
    {
     "name": "stdout",
     "output_type": "stream",
     "text": [
      "Accuracy on test set: 0.9079754601226994\n"
     ]
    },
    {
     "data": {
      "image/png": "[encoded data removed]",
      "text/plain": [
       "<Figure size 640x480 with 1 Axes>"
      ]
     },
     "metadata": {},
     "output_type": "display_data"
    }
   ],
   "source": [
    "epochs = 25\n",
    "batch_size = 2\n",
    "# Prepare for epoch_losses\n",
    "epoch_losses = []\n",
    "\n",
    "# Create dataloader\n",
    "train_dataloader = DataLoader(train_dataset, sampler=RandomSampler(train_dataset), batch_size=batch_size)\n",
    "test_dataloader = DataLoader(test_dataset, sampler=SequentialSampler(test_dataset), batch_size=batch_size)\n",
    "\n",
    "model = BertForSequenceClassification.from_pretrained('bert-base-uncased').to(device)\n",
    "# Optimizer\n",
    "optimizer = AdamW(model.parameters(), lr=1e-6)\n",
    "\n",
    "model.train()\n",
    "# Training loop\n",
    "for epoch in range(epochs):\n",
    "    total_loss = 0\n",
    "    progress_bar = tqdm(train_dataloader, desc=f\"Epoch {epoch+1}\")\n",
    "\n",
    "    for batch in progress_bar:\n",
    "        # b_input_ids, b_input_mask, b_labels = batch\n",
    "        b_input_ids, b_input_mask, b_labels = batch[0].to(device), batch[1].to(device), batch[2].to(device)\n",
    "        model.zero_grad()\n",
    "\n",
    "        outputs = model(b_input_ids, token_type_ids=None, attention_mask=b_input_mask, labels=b_labels)\n",
    "        loss = outputs.loss\n",
    "        total_loss += loss.item()\n",
    "        loss.backward()\n",
    "        optimizer.step()\n",
    "\n",
    "        # Update the progress bar\n",
    "        progress_bar.set_postfix({'loss': total_loss/len(train_dataloader)})\n",
    "        \n",
    "    # Calculate and store the average loss for this epoch\n",
    "    avg_loss = total_loss / len(train_dataloader)\n",
    "    epoch_losses.append(avg_loss)\n",
    "    \n",
    "    # Save the model after each epoch\n",
    "    # model_save_file = os.path.join(model_save_path, f'bert_model_epoch_{epoch+1}.pt')\n",
    "    # torch.save(model.state_dict(), model_save_file)\n",
    "\n",
    "    # Closing the progress bar and printing the epoch loss\n",
    "    progress_bar.close()\n",
    "    print(f\"Epoch {epoch+1} finished. Loss: {total_loss/len(train_dataloader)}\")\n",
    "\n",
    "# Switch to evaluation mode\n",
    "model.eval()\n",
    "predictions, true_labels = [], []\n",
    "# Add tqdm progress bar\n",
    "for batch in tqdm(test_dataloader, desc=\"Evaluating\"):\n",
    "    batch = tuple(t.to(device) for t in batch)\n",
    "    b_input_ids, b_input_mask, b_labels = batch\n",
    "\n",
    "    with torch.no_grad():\n",
    "        outputs = model(b_input_ids, token_type_ids=None, attention_mask=b_input_mask)\n",
    "    \n",
    "    logits = outputs.logits\n",
    "    logits = logits.detach().cpu().numpy()\n",
    "    label_ids = b_labels.to('cpu').numpy()\n",
    "\n",
    "    batch_preds = np.argmax(logits, axis=1)\n",
    "    predictions.extend(batch_preds)\n",
    "    true_labels.extend(label_ids)\n",
    "\n",
    "# Calculate the accuracy\n",
    "accuracy = accuracy_score(true_labels, predictions)\n",
    "print(f\"Accuracy on test set: {accuracy}\")\n",
    "\n",
    "# Plotting the training loss\n",
    "plt.plot(epoch_losses, label='Training Loss')\n",
    "plt.xlabel('Epochs')\n",
    "plt.ylabel('Loss')\n",
    "plt.title('Training Loss Over Epochs')\n",
    "plt.legend()\n",
    "plt.show()"
   ]
  },
  {
   "cell_type": "markdown",
   "id": "a23c15225f1d5a1e",
   "metadata": {
    "collapsed": false
   },
   "source": [
    "## Config 10"
   ]
  },
  {
   "cell_type": "code",
   "execution_count": 11,
   "id": "55e1130d4b692390",
   "metadata": {
    "collapsed": false
   },
   "outputs": [
    {
     "name": "stderr",
     "output_type": "stream",
     "text": [
      "Some weights of BertForSequenceClassification were not initialized from the model checkpoint at bert-base-uncased and are newly initialized: ['classifier.bias', 'classifier.weight']\n",
      "You should probably TRAIN this model on a down-stream task to be able to use it for predictions and inference.\n",
      "c:\\Users\\Andy Cui\\.conda\\envs\\nlp\\lib\\site-packages\\transformers\\optimization.py:411: FutureWarning: This implementation of AdamW is deprecated and will be removed in a future version. Use the PyTorch implementation torch.optim.AdamW instead, or set `no_deprecation_warning=True` to disable this warning\n",
      "  warnings.warn(\n",
      "Epoch 1: 100%|██████████| 143/143 [00:37<00:00,  3.85it/s, loss=0.419]\n"
     ]
    },
    {
     "name": "stdout",
     "output_type": "stream",
     "text": [
      "Epoch 1 finished. Loss: 0.4189913151199584\n"
     ]
    },
    {
     "name": "stderr",
     "output_type": "stream",
     "text": [
      "Epoch 2: 100%|██████████| 143/143 [00:34<00:00,  4.11it/s, loss=0.217]\n"
     ]
    },
    {
     "name": "stdout",
     "output_type": "stream",
     "text": [
      "Epoch 2 finished. Loss: 0.21695001398610486\n"
     ]
    },
    {
     "name": "stderr",
     "output_type": "stream",
     "text": [
      "Epoch 3: 100%|██████████| 143/143 [00:35<00:00,  4.08it/s, loss=0.104] \n"
     ]
    },
    {
     "name": "stdout",
     "output_type": "stream",
     "text": [
      "Epoch 3 finished. Loss: 0.10395444329775921\n"
     ]
    },
    {
     "name": "stderr",
     "output_type": "stream",
     "text": [
      "Epoch 4: 100%|██████████| 143/143 [00:34<00:00,  4.12it/s, loss=0.0799]\n"
     ]
    },
    {
     "name": "stdout",
     "output_type": "stream",
     "text": [
      "Epoch 4 finished. Loss: 0.07987006853979367\n"
     ]
    },
    {
     "name": "stderr",
     "output_type": "stream",
     "text": [
      "Epoch 5: 100%|██████████| 143/143 [00:34<00:00,  4.11it/s, loss=0.029] \n"
     ]
    },
    {
     "name": "stdout",
     "output_type": "stream",
     "text": [
      "Epoch 5 finished. Loss: 0.029038808004070934\n"
     ]
    },
    {
     "name": "stderr",
     "output_type": "stream",
     "text": [
      "Epoch 6: 100%|██████████| 143/143 [00:35<00:00,  4.05it/s, loss=0.0313] \n"
     ]
    },
    {
     "name": "stdout",
     "output_type": "stream",
     "text": [
      "Epoch 6 finished. Loss: 0.03131093059656686\n"
     ]
    },
    {
     "name": "stderr",
     "output_type": "stream",
     "text": [
      "Epoch 7: 100%|██████████| 143/143 [00:34<00:00,  4.12it/s, loss=0.0492]\n"
     ]
    },
    {
     "name": "stdout",
     "output_type": "stream",
     "text": [
      "Epoch 7 finished. Loss: 0.0492200924000553\n"
     ]
    },
    {
     "name": "stderr",
     "output_type": "stream",
     "text": [
      "Epoch 8: 100%|██████████| 143/143 [00:35<00:00,  4.03it/s, loss=0.00214]\n"
     ]
    },
    {
     "name": "stdout",
     "output_type": "stream",
     "text": [
      "Epoch 8 finished. Loss: 0.0021441811768963307\n"
     ]
    },
    {
     "name": "stderr",
     "output_type": "stream",
     "text": [
      "Epoch 9: 100%|██████████| 143/143 [00:35<00:00,  4.07it/s, loss=0.00145]\n"
     ]
    },
    {
     "name": "stdout",
     "output_type": "stream",
     "text": [
      "Epoch 9 finished. Loss: 0.0014514960336394712\n"
     ]
    },
    {
     "name": "stderr",
     "output_type": "stream",
     "text": [
      "Epoch 10: 100%|██████████| 143/143 [00:35<00:00,  4.06it/s, loss=0.000926]\n"
     ]
    },
    {
     "name": "stdout",
     "output_type": "stream",
     "text": [
      "Epoch 10 finished. Loss: 0.0009260845333549448\n"
     ]
    },
    {
     "name": "stderr",
     "output_type": "stream",
     "text": [
      "Epoch 11: 100%|██████████| 143/143 [00:35<00:00,  4.07it/s, loss=0.000731]\n"
     ]
    },
    {
     "name": "stdout",
     "output_type": "stream",
     "text": [
      "Epoch 11 finished. Loss: 0.0007314611567425301\n"
     ]
    },
    {
     "name": "stderr",
     "output_type": "stream",
     "text": [
      "Epoch 12: 100%|██████████| 143/143 [00:35<00:00,  4.07it/s, loss=0.000707]\n"
     ]
    },
    {
     "name": "stdout",
     "output_type": "stream",
     "text": [
      "Epoch 12 finished. Loss: 0.0007073426624463701\n"
     ]
    },
    {
     "name": "stderr",
     "output_type": "stream",
     "text": [
      "Epoch 13: 100%|██████████| 143/143 [00:34<00:00,  4.14it/s, loss=0.0005]  \n"
     ]
    },
    {
     "name": "stdout",
     "output_type": "stream",
     "text": [
      "Epoch 13 finished. Loss: 0.0004997134293751934\n"
     ]
    },
    {
     "name": "stderr",
     "output_type": "stream",
     "text": [
      "Epoch 14: 100%|██████████| 143/143 [00:35<00:00,  4.05it/s, loss=0.000405]\n"
     ]
    },
    {
     "name": "stdout",
     "output_type": "stream",
     "text": [
      "Epoch 14 finished. Loss: 0.00040457841420832736\n"
     ]
    },
    {
     "name": "stderr",
     "output_type": "stream",
     "text": [
      "Epoch 15: 100%|██████████| 143/143 [00:34<00:00,  4.09it/s, loss=0.000349]\n"
     ]
    },
    {
     "name": "stdout",
     "output_type": "stream",
     "text": [
      "Epoch 15 finished. Loss: 0.00034865639168423944\n"
     ]
    },
    {
     "name": "stderr",
     "output_type": "stream",
     "text": [
      "Epoch 16: 100%|██████████| 143/143 [00:35<00:00,  4.08it/s, loss=0.000303]\n"
     ]
    },
    {
     "name": "stdout",
     "output_type": "stream",
     "text": [
      "Epoch 16 finished. Loss: 0.00030294174181502573\n"
     ]
    },
    {
     "name": "stderr",
     "output_type": "stream",
     "text": [
      "Epoch 17: 100%|██████████| 143/143 [00:35<00:00,  4.09it/s, loss=0.00026] \n"
     ]
    },
    {
     "name": "stdout",
     "output_type": "stream",
     "text": [
      "Epoch 17 finished. Loss: 0.0002598815123995089\n"
     ]
    },
    {
     "name": "stderr",
     "output_type": "stream",
     "text": [
      "Epoch 18: 100%|██████████| 143/143 [00:35<00:00,  4.08it/s, loss=0.000231]\n"
     ]
    },
    {
     "name": "stdout",
     "output_type": "stream",
     "text": [
      "Epoch 18 finished. Loss: 0.00023061735240068496\n"
     ]
    },
    {
     "name": "stderr",
     "output_type": "stream",
     "text": [
      "Epoch 19: 100%|██████████| 143/143 [00:35<00:00,  4.07it/s, loss=0.000207]\n"
     ]
    },
    {
     "name": "stdout",
     "output_type": "stream",
     "text": [
      "Epoch 19 finished. Loss: 0.0002069762387716739\n"
     ]
    },
    {
     "name": "stderr",
     "output_type": "stream",
     "text": [
      "Epoch 20: 100%|██████████| 143/143 [00:35<00:00,  4.05it/s, loss=0.000178]\n"
     ]
    },
    {
     "name": "stdout",
     "output_type": "stream",
     "text": [
      "Epoch 20 finished. Loss: 0.00017818043933867092\n"
     ]
    },
    {
     "name": "stderr",
     "output_type": "stream",
     "text": [
      "Epoch 21: 100%|██████████| 143/143 [00:35<00:00,  4.07it/s, loss=0.000156]\n"
     ]
    },
    {
     "name": "stdout",
     "output_type": "stream",
     "text": [
      "Epoch 21 finished. Loss: 0.00015567666025697157\n"
     ]
    },
    {
     "name": "stderr",
     "output_type": "stream",
     "text": [
      "Epoch 22: 100%|██████████| 143/143 [00:34<00:00,  4.09it/s, loss=0.000142]\n"
     ]
    },
    {
     "name": "stdout",
     "output_type": "stream",
     "text": [
      "Epoch 22 finished. Loss: 0.0001417941845696211\n"
     ]
    },
    {
     "name": "stderr",
     "output_type": "stream",
     "text": [
      "Epoch 23: 100%|██████████| 143/143 [00:35<00:00,  4.06it/s, loss=0.000128]\n"
     ]
    },
    {
     "name": "stdout",
     "output_type": "stream",
     "text": [
      "Epoch 23 finished. Loss: 0.00012827830897339692\n"
     ]
    },
    {
     "name": "stderr",
     "output_type": "stream",
     "text": [
      "Epoch 24: 100%|██████████| 143/143 [00:35<00:00,  4.08it/s, loss=0.000115]\n"
     ]
    },
    {
     "name": "stdout",
     "output_type": "stream",
     "text": [
      "Epoch 24 finished. Loss: 0.0001151122382176076\n"
     ]
    },
    {
     "name": "stderr",
     "output_type": "stream",
     "text": [
      "Epoch 25: 100%|██████████| 143/143 [00:34<00:00,  4.14it/s, loss=0.000103]"
     ]
    },
    {
     "name": "stdout",
     "output_type": "stream",
     "text": [
      "Epoch 25 finished. Loss: 0.00010258485557502494\n"
     ]
    },
    {
     "name": "stderr",
     "output_type": "stream",
     "text": [
      "\n"
     ]
    }
   ],
   "source": [
    "epochs = 25\n",
    "batch_size = 8\n",
    "# Prepare for epoch_losses\n",
    "epoch_losses = []\n",
    "\n",
    "# Create dataloader\n",
    "train_dataloader = DataLoader(train_dataset, sampler=RandomSampler(train_dataset), batch_size=batch_size)\n",
    "test_dataloader = DataLoader(test_dataset, sampler=SequentialSampler(test_dataset), batch_size=batch_size)\n",
    "\n",
    "model = BertForSequenceClassification.from_pretrained('bert-base-uncased').to(device)\n",
    "# Optimizer\n",
    "optimizer = AdamW(model.parameters(), lr=2e-5)\n",
    "\n",
    "model.train()\n",
    "# Training loop\n",
    "for epoch in range(epochs):\n",
    "    total_loss = 0\n",
    "    progress_bar = tqdm(train_dataloader, desc=f\"Epoch {epoch+1}\")\n",
    "\n",
    "    for batch in progress_bar:\n",
    "        # b_input_ids, b_input_mask, b_labels = batch\n",
    "        b_input_ids, b_input_mask, b_labels = batch[0].to(device), batch[1].to(device), batch[2].to(device)\n",
    "        model.zero_grad()\n",
    "\n",
    "        outputs = model(b_input_ids, token_type_ids=None, attention_mask=b_input_mask, labels=b_labels)\n",
    "        loss = outputs.loss\n",
    "        total_loss += loss.item()\n",
    "        loss.backward()\n",
    "        optimizer.step()\n",
    "\n",
    "        # Update the progress bar\n",
    "        progress_bar.set_postfix({'loss': total_loss/len(train_dataloader)})\n",
    "        \n",
    "    # Calculate and store the average loss for this epoch\n",
    "    avg_loss = total_loss / len(train_dataloader)\n",
    "    epoch_losses.append(avg_loss)\n",
    "    \n",
    "    # Save the model after each epoch\n",
    "    # model_save_file = os.path.join(model_save_path, f'bert_model_epoch_{epoch+1}.pt')\n",
    "    # torch.save(model.state_dict(), model_save_file)\n",
    "\n",
    "    # Closing the progress bar and printing the epoch loss\n",
    "    progress_bar.close()\n",
    "    print(f\"Epoch {epoch+1} finished. Loss: {total_loss/len(train_dataloader)}\")"
   ]
  },
  {
   "cell_type": "code",
   "execution_count": 12,
   "id": "396c4dac",
   "metadata": {},
   "outputs": [
    {
     "name": "stdout",
     "output_type": "stream",
     "text": [
      "Training Parameters:\n",
      "Batch Size: 8\n",
      "Epochs: 25\n",
      "Learning Rate: 2e-05\n",
      "Beta1: 0.9\n",
      "Beta2: 0.999\n",
      "Training completed. Final model saved to models\\bert_final_model_1.pt\n"
     ]
    }
   ],
   "source": [
    "model_save_path = 'models'  \n",
    "os.makedirs(model_save_path, exist_ok=True)\n",
    "final_model_save_file = os.path.join(model_save_path, 'bert_final_model_1.pt')\n",
    "torch.save(model.state_dict(), final_model_save_file)\n",
    "\n",
    "# print paramter\n",
    "print(\"Training Parameters:\")\n",
    "print(f\"Batch Size: {batch_size}\")\n",
    "print(f\"Epochs: {epochs}\")\n",
    "print(f\"Learning Rate: {optimizer.defaults['lr']}\")\n",
    "print(f\"Beta1: {optimizer.defaults['betas'][0]}\")\n",
    "print(f\"Beta2: {optimizer.defaults['betas'][1]}\")\n",
    "\n",
    "print(f\"Training completed. Final model saved to {final_model_save_file}\")"
   ]
  },
  {
   "cell_type": "code",
   "execution_count": 13,
   "id": "57af6c7d",
   "metadata": {},
   "outputs": [
    {
     "data": {
      "image/png": "[encoded data removed]",
      "text/plain": [
       "<Figure size 640x480 with 1 Axes>"
      ]
     },
     "metadata": {},
     "output_type": "display_data"
    }
   ],
   "source": [
    "# Plotting the training loss\n",
    "plt.plot(epoch_losses, label='Training Loss')\n",
    "plt.xlabel('Epochs')\n",
    "plt.ylabel('Loss')\n",
    "plt.title('Training Loss Over Epochs')\n",
    "plt.legend()\n",
    "plt.show()"
   ]
  },
  {
   "cell_type": "markdown",
   "id": "f0b6d5d9",
   "metadata": {},
   "source": [
    "### Evulation "
   ]
  },
  {
   "cell_type": "code",
   "execution_count": 14,
   "id": "2598b529f5b9ffaa",
   "metadata": {
    "collapsed": false
   },
   "outputs": [
    {
     "name": "stderr",
     "output_type": "stream",
     "text": [
      "Evaluating: 100%|██████████| 62/62 [00:04<00:00, 13.04it/s]"
     ]
    },
    {
     "name": "stdout",
     "output_type": "stream",
     "text": [
      "Accuracy on test set: 0.9263803680981595\n"
     ]
    },
    {
     "name": "stderr",
     "output_type": "stream",
     "text": [
      "\n"
     ]
    }
   ],
   "source": [
    "device = 'cuda' if torch.cuda.is_available() else 'cpu'\n",
    "\n",
    "# Switch to evaluation mode\n",
    "model.eval()\n",
    "\n",
    "predictions, true_labels = [], []\n",
    "\n",
    "# Add tqdm progress bar\n",
    "for batch in tqdm(test_dataloader, desc=\"Evaluating\"):\n",
    "    batch = tuple(t.to(device) for t in batch)\n",
    "    b_input_ids, b_input_mask, b_labels = batch\n",
    "\n",
    "    with torch.no_grad():\n",
    "        outputs = model(b_input_ids, token_type_ids=None, attention_mask=b_input_mask)\n",
    "    \n",
    "    logits = outputs.logits\n",
    "    logits = logits.detach().cpu().numpy()\n",
    "    label_ids = b_labels.to('cpu').numpy()\n",
    "\n",
    "    batch_preds = np.argmax(logits, axis=1)\n",
    "    predictions.extend(batch_preds)\n",
    "    true_labels.extend(label_ids)\n",
    "\n",
    "# Calculate the accuracy\n",
    "accuracy = accuracy_score(true_labels, predictions)\n",
    "print(f\"Accuracy on test set: {accuracy}\")"
   ]
  },
  {
   "cell_type": "markdown",
   "id": "e4de4e7b",
   "metadata": {},
   "source": [
    "### K-Fold"
   ]
  },
  {
   "cell_type": "code",
   "execution_count": 15,
   "id": "c1e96fd8",
   "metadata": {},
   "outputs": [
    {
     "name": "stdout",
     "output_type": "stream",
     "text": [
      "FOLD 0\n",
      "-------------------------------\n"
     ]
    },
    {
     "name": "stderr",
     "output_type": "stream",
     "text": [
      "Some weights of BertForSequenceClassification were not initialized from the model checkpoint at bert-base-uncased and are newly initialized: ['classifier.bias', 'classifier.weight']\n",
      "You should probably TRAIN this model on a down-stream task to be able to use it for predictions and inference.\n",
      "c:\\Users\\Andy Cui\\.conda\\envs\\nlp\\lib\\site-packages\\transformers\\optimization.py:411: FutureWarning: This implementation of AdamW is deprecated and will be removed in a future version. Use the PyTorch implementation torch.optim.AdamW instead, or set `no_deprecation_warning=True` to disable this warning\n",
      "  warnings.warn(\n",
      "Training Epoch 1/25, Fold 1/10: 100%|██████████| 184/184 [00:45<00:00,  4.01it/s, loss=0.306]\n",
      "Training Epoch 2/25, Fold 1/10: 100%|██████████| 184/184 [00:44<00:00,  4.11it/s, loss=0.14] \n",
      "Training Epoch 3/25, Fold 1/10: 100%|██████████| 184/184 [00:44<00:00,  4.14it/s, loss=0.0561]\n",
      "Training Epoch 4/25, Fold 1/10: 100%|██████████| 184/184 [00:44<00:00,  4.17it/s, loss=0.0293]\n",
      "Training Epoch 5/25, Fold 1/10: 100%|██████████| 184/184 [00:44<00:00,  4.17it/s, loss=0.0245]\n",
      "Training Epoch 6/25, Fold 1/10: 100%|██████████| 184/184 [00:43<00:00,  4.18it/s, loss=0.0301] \n",
      "Training Epoch 7/25, Fold 1/10: 100%|██████████| 184/184 [00:44<00:00,  4.15it/s, loss=0.0765]\n",
      "Training Epoch 8/25, Fold 1/10: 100%|██████████| 184/184 [00:43<00:00,  4.19it/s, loss=0.00652]\n",
      "Training Epoch 9/25, Fold 1/10: 100%|██████████| 184/184 [00:44<00:00,  4.17it/s, loss=0.00269]\n",
      "Training Epoch 10/25, Fold 1/10: 100%|██████████| 184/184 [00:44<00:00,  4.13it/s, loss=0.000858]\n",
      "Training Epoch 11/25, Fold 1/10: 100%|██████████| 184/184 [00:43<00:00,  4.23it/s, loss=0.000503]\n",
      "Training Epoch 12/25, Fold 1/10: 100%|██████████| 184/184 [00:43<00:00,  4.18it/s, loss=0.00675] \n",
      "Training Epoch 13/25, Fold 1/10: 100%|██████████| 184/184 [00:43<00:00,  4.19it/s, loss=0.0198] \n",
      "Training Epoch 14/25, Fold 1/10: 100%|██████████| 184/184 [00:44<00:00,  4.17it/s, loss=0.0346]\n",
      "Training Epoch 15/25, Fold 1/10: 100%|██████████| 184/184 [00:43<00:00,  4.22it/s, loss=0.00553]\n",
      "Training Epoch 16/25, Fold 1/10: 100%|██████████| 184/184 [00:43<00:00,  4.24it/s, loss=0.00051] \n",
      "Training Epoch 17/25, Fold 1/10: 100%|██████████| 184/184 [00:43<00:00,  4.22it/s, loss=0.00041] \n",
      "Training Epoch 18/25, Fold 1/10: 100%|██████████| 184/184 [00:46<00:00,  3.97it/s, loss=0.000215]\n",
      "Training Epoch 19/25, Fold 1/10: 100%|██████████| 184/184 [00:45<00:00,  4.06it/s, loss=0.0003]  \n",
      "Training Epoch 20/25, Fold 1/10: 100%|██████████| 184/184 [00:45<00:00,  4.07it/s, loss=0.000145]\n",
      "Training Epoch 21/25, Fold 1/10: 100%|██████████| 184/184 [00:44<00:00,  4.11it/s, loss=0.000111]\n",
      "Training Epoch 22/25, Fold 1/10: 100%|██████████| 184/184 [00:44<00:00,  4.15it/s, loss=9.31e-5]\n",
      "Training Epoch 23/25, Fold 1/10: 100%|██████████| 184/184 [00:44<00:00,  4.14it/s, loss=9.44e-5]\n",
      "Training Epoch 24/25, Fold 1/10: 100%|██████████| 184/184 [00:45<00:00,  4.06it/s, loss=7.21e-5]\n",
      "Training Epoch 25/25, Fold 1/10: 100%|██████████| 184/184 [00:47<00:00,  3.90it/s, loss=6.29e-5]\n",
      "Validation, Fold 1/10: 100%|██████████| 21/21 [00:01<00:00, 12.44it/s]\n"
     ]
    },
    {
     "name": "stdout",
     "output_type": "stream",
     "text": [
      "Validation accuracy: 0.9464285714285714\n",
      "FOLD 1\n",
      "-------------------------------\n"
     ]
    },
    {
     "name": "stderr",
     "output_type": "stream",
     "text": [
      "Some weights of BertForSequenceClassification were not initialized from the model checkpoint at bert-base-uncased and are newly initialized: ['classifier.bias', 'classifier.weight']\n",
      "You should probably TRAIN this model on a down-stream task to be able to use it for predictions and inference.\n",
      "Training Epoch 1/25, Fold 2/10: 100%|██████████| 184/184 [00:46<00:00,  3.93it/s, loss=0.379]\n",
      "Training Epoch 2/25, Fold 2/10: 100%|██████████| 184/184 [00:45<00:00,  4.06it/s, loss=0.163]\n",
      "Training Epoch 3/25, Fold 2/10: 100%|██████████| 184/184 [00:45<00:00,  4.07it/s, loss=0.0703]\n",
      "Training Epoch 4/25, Fold 2/10: 100%|██████████| 184/184 [00:44<00:00,  4.14it/s, loss=0.0383]\n",
      "Training Epoch 5/25, Fold 2/10: 100%|██████████| 184/184 [00:44<00:00,  4.16it/s, loss=0.0272]\n",
      "Training Epoch 6/25, Fold 2/10: 100%|██████████| 184/184 [00:44<00:00,  4.11it/s, loss=0.0127] \n",
      "Training Epoch 7/25, Fold 2/10: 100%|██████████| 184/184 [00:44<00:00,  4.10it/s, loss=0.0363]\n",
      "Training Epoch 8/25, Fold 2/10: 100%|██████████| 184/184 [00:44<00:00,  4.14it/s, loss=0.00631]\n",
      "Training Epoch 9/25, Fold 2/10: 100%|██████████| 184/184 [00:44<00:00,  4.15it/s, loss=0.0152]\n",
      "Training Epoch 10/25, Fold 2/10: 100%|██████████| 184/184 [00:44<00:00,  4.16it/s, loss=0.00369]\n",
      "Training Epoch 11/25, Fold 2/10: 100%|██████████| 184/184 [00:44<00:00,  4.15it/s, loss=0.01]  \n",
      "Training Epoch 12/25, Fold 2/10: 100%|██████████| 184/184 [00:44<00:00,  4.15it/s, loss=0.00791]\n",
      "Training Epoch 13/25, Fold 2/10: 100%|██████████| 184/184 [00:44<00:00,  4.15it/s, loss=0.00767]\n",
      "Training Epoch 14/25, Fold 2/10: 100%|██████████| 184/184 [00:44<00:00,  4.13it/s, loss=0.00459]\n",
      "Training Epoch 15/25, Fold 2/10: 100%|██████████| 184/184 [00:44<00:00,  4.15it/s, loss=0.0015] \n",
      "Training Epoch 16/25, Fold 2/10: 100%|██████████| 184/184 [00:44<00:00,  4.16it/s, loss=0.000303]\n",
      "Training Epoch 17/25, Fold 2/10: 100%|██████████| 184/184 [00:44<00:00,  4.14it/s, loss=0.000255]\n",
      "Training Epoch 18/25, Fold 2/10: 100%|██████████| 184/184 [00:44<00:00,  4.11it/s, loss=0.0002]  \n",
      "Training Epoch 19/25, Fold 2/10: 100%|██████████| 184/184 [00:44<00:00,  4.10it/s, loss=0.000175]\n",
      "Training Epoch 20/25, Fold 2/10: 100%|██████████| 184/184 [00:44<00:00,  4.11it/s, loss=0.000151]\n",
      "Training Epoch 21/25, Fold 2/10: 100%|██████████| 184/184 [00:44<00:00,  4.10it/s, loss=0.000138]\n",
      "Training Epoch 22/25, Fold 2/10: 100%|██████████| 184/184 [00:44<00:00,  4.10it/s, loss=0.000119]\n",
      "Training Epoch 23/25, Fold 2/10: 100%|██████████| 184/184 [00:44<00:00,  4.11it/s, loss=0.000108]\n",
      "Training Epoch 24/25, Fold 2/10: 100%|██████████| 184/184 [00:44<00:00,  4.12it/s, loss=0.0001]  \n",
      "Training Epoch 25/25, Fold 2/10: 100%|██████████| 184/184 [00:44<00:00,  4.10it/s, loss=8.78e-5]\n",
      "Validation, Fold 2/10: 100%|██████████| 21/21 [00:01<00:00, 13.34it/s]\n"
     ]
    },
    {
     "name": "stdout",
     "output_type": "stream",
     "text": [
      "Validation accuracy: 0.9246031746031746\n",
      "FOLD 2\n",
      "-------------------------------\n"
     ]
    },
    {
     "name": "stderr",
     "output_type": "stream",
     "text": [
      "Some weights of BertForSequenceClassification were not initialized from the model checkpoint at bert-base-uncased and are newly initialized: ['classifier.bias', 'classifier.weight']\n",
      "You should probably TRAIN this model on a down-stream task to be able to use it for predictions and inference.\n",
      "Training Epoch 1/25, Fold 3/10: 100%|██████████| 184/184 [00:44<00:00,  4.10it/s, loss=0.361]\n",
      "Training Epoch 2/25, Fold 3/10: 100%|██████████| 184/184 [00:44<00:00,  4.13it/s, loss=0.17] \n",
      "Training Epoch 3/25, Fold 3/10: 100%|██████████| 184/184 [00:44<00:00,  4.12it/s, loss=0.0709]\n",
      "Training Epoch 4/25, Fold 3/10: 100%|██████████| 184/184 [00:44<00:00,  4.13it/s, loss=0.0294]\n",
      "Training Epoch 5/25, Fold 3/10: 100%|██████████| 184/184 [00:44<00:00,  4.10it/s, loss=0.0305]\n",
      "Training Epoch 6/25, Fold 3/10: 100%|██████████| 184/184 [00:44<00:00,  4.11it/s, loss=0.00319]\n",
      "Training Epoch 7/25, Fold 3/10: 100%|██████████| 184/184 [00:44<00:00,  4.11it/s, loss=0.000628]\n",
      "Training Epoch 8/25, Fold 3/10: 100%|██████████| 184/184 [00:44<00:00,  4.09it/s, loss=0.00044] \n",
      "Training Epoch 9/25, Fold 3/10: 100%|██████████| 184/184 [00:44<00:00,  4.12it/s, loss=0.0039]  \n",
      "Training Epoch 10/25, Fold 3/10: 100%|██████████| 184/184 [00:44<00:00,  4.15it/s, loss=0.0329]\n",
      "Training Epoch 11/25, Fold 3/10: 100%|██████████| 184/184 [00:44<00:00,  4.12it/s, loss=0.0155]\n",
      "Training Epoch 12/25, Fold 3/10: 100%|██████████| 184/184 [00:44<00:00,  4.11it/s, loss=0.0288] \n",
      "Training Epoch 13/25, Fold 3/10: 100%|██████████| 184/184 [00:45<00:00,  4.08it/s, loss=0.019]  \n",
      "Training Epoch 14/25, Fold 3/10: 100%|██████████| 184/184 [00:44<00:00,  4.14it/s, loss=0.00394]\n",
      "Training Epoch 15/25, Fold 3/10: 100%|██████████| 184/184 [00:44<00:00,  4.10it/s, loss=0.000607]\n",
      "Training Epoch 16/25, Fold 3/10: 100%|██████████| 184/184 [00:44<00:00,  4.14it/s, loss=0.000251]\n",
      "Training Epoch 17/25, Fold 3/10: 100%|██████████| 184/184 [00:44<00:00,  4.11it/s, loss=0.000155]\n",
      "Training Epoch 18/25, Fold 3/10: 100%|██████████| 184/184 [00:45<00:00,  4.06it/s, loss=0.000112]\n",
      "Training Epoch 19/25, Fold 3/10: 100%|██████████| 184/184 [00:47<00:00,  3.88it/s, loss=8.64e-5]\n",
      "Training Epoch 20/25, Fold 3/10: 100%|██████████| 184/184 [00:44<00:00,  4.11it/s, loss=7.51e-5]\n",
      "Training Epoch 21/25, Fold 3/10: 100%|██████████| 184/184 [00:44<00:00,  4.10it/s, loss=6.63e-5]\n",
      "Training Epoch 22/25, Fold 3/10: 100%|██████████| 184/184 [00:45<00:00,  4.04it/s, loss=6.01e-5]\n",
      "Training Epoch 23/25, Fold 3/10: 100%|██████████| 184/184 [00:45<00:00,  4.07it/s, loss=5.3e-5] \n",
      "Training Epoch 24/25, Fold 3/10: 100%|██████████| 184/184 [00:44<00:00,  4.11it/s, loss=4.55e-5]\n",
      "Training Epoch 25/25, Fold 3/10: 100%|██████████| 184/184 [00:45<00:00,  4.08it/s, loss=4.08e-5]\n",
      "Validation, Fold 3/10: 100%|██████████| 21/21 [00:01<00:00, 13.27it/s]\n"
     ]
    },
    {
     "name": "stdout",
     "output_type": "stream",
     "text": [
      "Validation accuracy: 0.9642857142857143\n",
      "FOLD 3\n",
      "-------------------------------\n"
     ]
    },
    {
     "name": "stderr",
     "output_type": "stream",
     "text": [
      "Some weights of BertForSequenceClassification were not initialized from the model checkpoint at bert-base-uncased and are newly initialized: ['classifier.bias', 'classifier.weight']\n",
      "You should probably TRAIN this model on a down-stream task to be able to use it for predictions and inference.\n",
      "Training Epoch 1/25, Fold 4/10: 100%|██████████| 184/184 [00:44<00:00,  4.10it/s, loss=0.373]\n",
      "Training Epoch 2/25, Fold 4/10: 100%|██████████| 184/184 [00:44<00:00,  4.10it/s, loss=0.16] \n",
      "Training Epoch 3/25, Fold 4/10: 100%|██████████| 184/184 [00:45<00:00,  4.09it/s, loss=0.0588]\n",
      "Training Epoch 4/25, Fold 4/10: 100%|██████████| 184/184 [00:45<00:00,  4.08it/s, loss=0.0376]\n",
      "Training Epoch 5/25, Fold 4/10: 100%|██████████| 184/184 [00:44<00:00,  4.12it/s, loss=0.0133]\n",
      "Training Epoch 6/25, Fold 4/10: 100%|██████████| 184/184 [00:44<00:00,  4.13it/s, loss=0.0195]\n",
      "Training Epoch 7/25, Fold 4/10: 100%|██████████| 184/184 [00:44<00:00,  4.14it/s, loss=0.0227]\n",
      "Training Epoch 8/25, Fold 4/10: 100%|██████████| 184/184 [00:44<00:00,  4.13it/s, loss=0.0197]\n",
      "Training Epoch 9/25, Fold 4/10: 100%|██████████| 184/184 [00:45<00:00,  4.04it/s, loss=0.00857]\n",
      "Training Epoch 10/25, Fold 4/10: 100%|██████████| 184/184 [00:45<00:00,  4.08it/s, loss=0.0217]  \n",
      "Training Epoch 11/25, Fold 4/10: 100%|██████████| 184/184 [00:44<00:00,  4.10it/s, loss=0.0071] \n",
      "Training Epoch 12/25, Fold 4/10: 100%|██████████| 184/184 [00:44<00:00,  4.12it/s, loss=0.000989]\n",
      "Training Epoch 13/25, Fold 4/10: 100%|██████████| 184/184 [00:44<00:00,  4.10it/s, loss=0.000447]\n",
      "Training Epoch 14/25, Fold 4/10: 100%|██████████| 184/184 [00:44<00:00,  4.12it/s, loss=0.000331]\n",
      "Training Epoch 15/25, Fold 4/10: 100%|██████████| 184/184 [00:44<00:00,  4.14it/s, loss=0.000232]\n",
      "Training Epoch 16/25, Fold 4/10: 100%|██████████| 184/184 [00:44<00:00,  4.11it/s, loss=0.000213]\n",
      "Training Epoch 17/25, Fold 4/10: 100%|██████████| 184/184 [00:44<00:00,  4.12it/s, loss=0.000168]\n",
      "Training Epoch 18/25, Fold 4/10: 100%|██████████| 184/184 [00:44<00:00,  4.12it/s, loss=0.0394]  \n",
      "Training Epoch 19/25, Fold 4/10: 100%|██████████| 184/184 [00:44<00:00,  4.11it/s, loss=0.0354]\n",
      "Training Epoch 20/25, Fold 4/10: 100%|██████████| 184/184 [00:44<00:00,  4.11it/s, loss=0.00523]\n",
      "Training Epoch 21/25, Fold 4/10: 100%|██████████| 184/184 [00:44<00:00,  4.12it/s, loss=0.000778]\n",
      "Training Epoch 22/25, Fold 4/10: 100%|██████████| 184/184 [00:44<00:00,  4.13it/s, loss=0.000187]\n",
      "Training Epoch 23/25, Fold 4/10: 100%|██████████| 184/184 [00:44<00:00,  4.14it/s, loss=0.000154]\n",
      "Training Epoch 24/25, Fold 4/10: 100%|██████████| 184/184 [00:44<00:00,  4.15it/s, loss=0.000131]\n",
      "Training Epoch 25/25, Fold 4/10: 100%|██████████| 184/184 [00:44<00:00,  4.10it/s, loss=0.000117]\n",
      "Validation, Fold 4/10: 100%|██████████| 21/21 [00:01<00:00, 13.27it/s]\n"
     ]
    },
    {
     "name": "stdout",
     "output_type": "stream",
     "text": [
      "Validation accuracy: 0.8769841269841271\n",
      "FOLD 4\n",
      "-------------------------------\n"
     ]
    },
    {
     "name": "stderr",
     "output_type": "stream",
     "text": [
      "Some weights of BertForSequenceClassification were not initialized from the model checkpoint at bert-base-uncased and are newly initialized: ['classifier.bias', 'classifier.weight']\n",
      "You should probably TRAIN this model on a down-stream task to be able to use it for predictions and inference.\n",
      "Training Epoch 1/25, Fold 5/10: 100%|██████████| 184/184 [00:44<00:00,  4.16it/s, loss=0.336]\n",
      "Training Epoch 2/25, Fold 5/10: 100%|██████████| 184/184 [00:44<00:00,  4.18it/s, loss=0.141]\n",
      "Training Epoch 3/25, Fold 5/10: 100%|██████████| 184/184 [00:43<00:00,  4.23it/s, loss=0.065] \n",
      "Training Epoch 4/25, Fold 5/10: 100%|██████████| 184/184 [00:43<00:00,  4.22it/s, loss=0.0314]\n",
      "Training Epoch 5/25, Fold 5/10: 100%|██████████| 184/184 [00:43<00:00,  4.23it/s, loss=0.00404]\n",
      "Training Epoch 6/25, Fold 5/10: 100%|██████████| 184/184 [00:43<00:00,  4.23it/s, loss=0.0299] \n",
      "Training Epoch 7/25, Fold 5/10: 100%|██████████| 184/184 [00:43<00:00,  4.21it/s, loss=0.0718]\n",
      "Training Epoch 8/25, Fold 5/10: 100%|██████████| 184/184 [00:43<00:00,  4.21it/s, loss=0.0152]\n",
      "Training Epoch 9/25, Fold 5/10: 100%|██████████| 184/184 [00:43<00:00,  4.23it/s, loss=0.00134]\n",
      "Training Epoch 10/25, Fold 5/10: 100%|██████████| 184/184 [00:43<00:00,  4.23it/s, loss=0.000748]\n",
      "Training Epoch 11/25, Fold 5/10: 100%|██████████| 184/184 [00:43<00:00,  4.20it/s, loss=0.000537]\n",
      "Training Epoch 12/25, Fold 5/10: 100%|██████████| 184/184 [00:43<00:00,  4.23it/s, loss=0.000339]\n",
      "Training Epoch 13/25, Fold 5/10: 100%|██████████| 184/184 [00:43<00:00,  4.23it/s, loss=0.000426]\n",
      "Training Epoch 14/25, Fold 5/10: 100%|██████████| 184/184 [00:43<00:00,  4.23it/s, loss=0.00032] \n",
      "Training Epoch 15/25, Fold 5/10: 100%|██████████| 184/184 [00:43<00:00,  4.23it/s, loss=0.0002]  \n",
      "Training Epoch 16/25, Fold 5/10: 100%|██████████| 184/184 [00:43<00:00,  4.23it/s, loss=0.00017] \n",
      "Training Epoch 17/25, Fold 5/10: 100%|██████████| 184/184 [00:43<00:00,  4.23it/s, loss=0.000152]\n",
      "Training Epoch 18/25, Fold 5/10: 100%|██████████| 184/184 [00:43<00:00,  4.23it/s, loss=0.000132]\n",
      "Training Epoch 19/25, Fold 5/10: 100%|██████████| 184/184 [00:43<00:00,  4.22it/s, loss=0.000117]\n",
      "Training Epoch 20/25, Fold 5/10: 100%|██████████| 184/184 [00:43<00:00,  4.23it/s, loss=0.000102]\n",
      "Training Epoch 21/25, Fold 5/10: 100%|██████████| 184/184 [00:43<00:00,  4.23it/s, loss=0.0177]  \n",
      "Training Epoch 22/25, Fold 5/10: 100%|██████████| 184/184 [00:43<00:00,  4.23it/s, loss=0.0426]\n",
      "Training Epoch 23/25, Fold 5/10: 100%|██████████| 184/184 [00:43<00:00,  4.22it/s, loss=0.00932]\n",
      "Training Epoch 24/25, Fold 5/10: 100%|██████████| 184/184 [00:43<00:00,  4.20it/s, loss=0.00429]\n",
      "Training Epoch 25/25, Fold 5/10: 100%|██████████| 184/184 [00:44<00:00,  4.14it/s, loss=0.000425]\n",
      "Validation, Fold 5/10: 100%|██████████| 21/21 [00:01<00:00, 13.40it/s]\n"
     ]
    },
    {
     "name": "stdout",
     "output_type": "stream",
     "text": [
      "Validation accuracy: 0.9107142857142857\n",
      "FOLD 5\n",
      "-------------------------------\n"
     ]
    },
    {
     "name": "stderr",
     "output_type": "stream",
     "text": [
      "Some weights of BertForSequenceClassification were not initialized from the model checkpoint at bert-base-uncased and are newly initialized: ['classifier.bias', 'classifier.weight']\n",
      "You should probably TRAIN this model on a down-stream task to be able to use it for predictions and inference.\n",
      "Training Epoch 1/25, Fold 6/10: 100%|██████████| 184/184 [00:44<00:00,  4.17it/s, loss=0.326]\n",
      "Training Epoch 2/25, Fold 6/10: 100%|██████████| 184/184 [00:44<00:00,  4.16it/s, loss=0.12] \n",
      "Training Epoch 3/25, Fold 6/10: 100%|██████████| 184/184 [00:44<00:00,  4.16it/s, loss=0.0637]\n",
      "Training Epoch 4/25, Fold 6/10: 100%|██████████| 184/184 [00:44<00:00,  4.17it/s, loss=0.0557]\n",
      "Training Epoch 5/25, Fold 6/10: 100%|██████████| 184/184 [00:43<00:00,  4.22it/s, loss=0.00867]\n",
      "Training Epoch 6/25, Fold 6/10: 100%|██████████| 184/184 [00:43<00:00,  4.22it/s, loss=0.0202]\n",
      "Training Epoch 7/25, Fold 6/10: 100%|██████████| 184/184 [00:44<00:00,  4.16it/s, loss=0.0225]\n",
      "Training Epoch 8/25, Fold 6/10: 100%|██████████| 184/184 [00:46<00:00,  3.98it/s, loss=0.00272]\n",
      "Training Epoch 9/25, Fold 6/10: 100%|██████████| 184/184 [00:44<00:00,  4.17it/s, loss=0.0256] \n",
      "Training Epoch 10/25, Fold 6/10: 100%|██████████| 184/184 [00:44<00:00,  4.14it/s, loss=0.00808]\n",
      "Training Epoch 11/25, Fold 6/10: 100%|██████████| 184/184 [00:43<00:00,  4.23it/s, loss=0.006]   \n",
      "Training Epoch 12/25, Fold 6/10: 100%|██████████| 184/184 [00:43<00:00,  4.23it/s, loss=0.00177]\n",
      "Training Epoch 13/25, Fold 6/10: 100%|██████████| 184/184 [00:43<00:00,  4.22it/s, loss=0.000298]\n",
      "Training Epoch 14/25, Fold 6/10: 100%|██████████| 184/184 [00:43<00:00,  4.23it/s, loss=0.000276]\n",
      "Training Epoch 15/25, Fold 6/10: 100%|██████████| 184/184 [00:43<00:00,  4.19it/s, loss=0.000175]\n",
      "Training Epoch 16/25, Fold 6/10: 100%|██████████| 184/184 [00:44<00:00,  4.13it/s, loss=0.000145]\n",
      "Training Epoch 17/25, Fold 6/10: 100%|██████████| 184/184 [00:44<00:00,  4.14it/s, loss=0.000133]\n",
      "Training Epoch 18/25, Fold 6/10: 100%|██████████| 184/184 [00:44<00:00,  4.10it/s, loss=0.00012] \n",
      "Training Epoch 19/25, Fold 6/10: 100%|██████████| 184/184 [00:45<00:00,  4.06it/s, loss=0.000103]\n",
      "Training Epoch 20/25, Fold 6/10: 100%|██████████| 184/184 [00:45<00:00,  4.01it/s, loss=0.0649]\n",
      "Training Epoch 21/25, Fold 6/10: 100%|██████████| 184/184 [00:45<00:00,  4.09it/s, loss=0.00694] \n",
      "Training Epoch 22/25, Fold 6/10: 100%|██████████| 184/184 [00:43<00:00,  4.22it/s, loss=0.0371] \n",
      "Training Epoch 23/25, Fold 6/10: 100%|██████████| 184/184 [00:43<00:00,  4.22it/s, loss=0.00249]\n",
      "Training Epoch 24/25, Fold 6/10: 100%|██████████| 184/184 [00:43<00:00,  4.22it/s, loss=0.00027] \n",
      "Training Epoch 25/25, Fold 6/10: 100%|██████████| 184/184 [00:43<00:00,  4.21it/s, loss=0.000185]\n",
      "Validation, Fold 6/10: 100%|██████████| 21/21 [00:01<00:00, 13.72it/s]\n"
     ]
    },
    {
     "name": "stdout",
     "output_type": "stream",
     "text": [
      "Validation accuracy: 0.9166666666666666\n",
      "FOLD 6\n",
      "-------------------------------\n"
     ]
    },
    {
     "name": "stderr",
     "output_type": "stream",
     "text": [
      "Some weights of BertForSequenceClassification were not initialized from the model checkpoint at bert-base-uncased and are newly initialized: ['classifier.bias', 'classifier.weight']\n",
      "You should probably TRAIN this model on a down-stream task to be able to use it for predictions and inference.\n",
      "Training Epoch 1/25, Fold 7/10: 100%|██████████| 184/184 [00:43<00:00,  4.22it/s, loss=0.357]\n",
      "Training Epoch 2/25, Fold 7/10: 100%|██████████| 184/184 [00:44<00:00,  4.11it/s, loss=0.155]\n",
      "Training Epoch 3/25, Fold 7/10: 100%|██████████| 184/184 [00:45<00:00,  4.07it/s, loss=0.0704]\n",
      "Training Epoch 4/25, Fold 7/10: 100%|██████████| 184/184 [00:43<00:00,  4.22it/s, loss=0.0297]\n",
      "Training Epoch 5/25, Fold 7/10: 100%|██████████| 184/184 [00:43<00:00,  4.23it/s, loss=0.0193]\n",
      "Training Epoch 6/25, Fold 7/10: 100%|██████████| 184/184 [00:43<00:00,  4.24it/s, loss=0.0279]\n",
      "Training Epoch 7/25, Fold 7/10: 100%|██████████| 184/184 [00:43<00:00,  4.23it/s, loss=0.0259] \n",
      "Training Epoch 8/25, Fold 7/10: 100%|██████████| 184/184 [00:43<00:00,  4.23it/s, loss=0.0171]\n",
      "Training Epoch 9/25, Fold 7/10: 100%|██████████| 184/184 [00:43<00:00,  4.23it/s, loss=0.00202]\n",
      "Training Epoch 10/25, Fold 7/10: 100%|██████████| 184/184 [00:43<00:00,  4.23it/s, loss=0.0011] \n",
      "Training Epoch 11/25, Fold 7/10: 100%|██████████| 184/184 [00:43<00:00,  4.23it/s, loss=0.000488]\n",
      "Training Epoch 12/25, Fold 7/10: 100%|██████████| 184/184 [00:43<00:00,  4.23it/s, loss=0.000372]\n",
      "Training Epoch 13/25, Fold 7/10: 100%|██████████| 184/184 [00:43<00:00,  4.23it/s, loss=0.0003]  \n",
      "Training Epoch 14/25, Fold 7/10: 100%|██████████| 184/184 [00:43<00:00,  4.23it/s, loss=0.000256]\n",
      "Training Epoch 15/25, Fold 7/10: 100%|██████████| 184/184 [00:43<00:00,  4.23it/s, loss=0.000227]\n",
      "Training Epoch 16/25, Fold 7/10: 100%|██████████| 184/184 [00:43<00:00,  4.24it/s, loss=0.000343]\n",
      "Training Epoch 17/25, Fold 7/10: 100%|██████████| 184/184 [00:43<00:00,  4.24it/s, loss=0.0333]  \n",
      "Training Epoch 18/25, Fold 7/10: 100%|██████████| 184/184 [00:43<00:00,  4.24it/s, loss=0.0264]\n",
      "Training Epoch 19/25, Fold 7/10: 100%|██████████| 184/184 [00:43<00:00,  4.23it/s, loss=0.0157] \n",
      "Training Epoch 20/25, Fold 7/10: 100%|██████████| 184/184 [00:43<00:00,  4.23it/s, loss=0.000648]\n",
      "Training Epoch 21/25, Fold 7/10: 100%|██████████| 184/184 [00:43<00:00,  4.24it/s, loss=0.000351]\n",
      "Training Epoch 22/25, Fold 7/10: 100%|██████████| 184/184 [00:43<00:00,  4.23it/s, loss=0.00023] \n",
      "Training Epoch 23/25, Fold 7/10: 100%|██████████| 184/184 [00:43<00:00,  4.23it/s, loss=0.000262]\n",
      "Training Epoch 24/25, Fold 7/10: 100%|██████████| 184/184 [00:43<00:00,  4.23it/s, loss=0.0636] \n",
      "Training Epoch 25/25, Fold 7/10: 100%|██████████| 184/184 [00:41<00:00,  4.42it/s, loss=0.0141] \n",
      "Validation, Fold 7/10: 100%|██████████| 21/21 [00:01<00:00, 14.68it/s]\n"
     ]
    },
    {
     "name": "stdout",
     "output_type": "stream",
     "text": [
      "Validation accuracy: 0.9404761904761905\n",
      "FOLD 7\n",
      "-------------------------------\n"
     ]
    },
    {
     "name": "stderr",
     "output_type": "stream",
     "text": [
      "Some weights of BertForSequenceClassification were not initialized from the model checkpoint at bert-base-uncased and are newly initialized: ['classifier.bias', 'classifier.weight']\n",
      "You should probably TRAIN this model on a down-stream task to be able to use it for predictions and inference.\n",
      "Training Epoch 1/25, Fold 8/10: 100%|██████████| 184/184 [00:40<00:00,  4.50it/s, loss=0.334]\n",
      "Training Epoch 2/25, Fold 8/10: 100%|██████████| 184/184 [00:40<00:00,  4.50it/s, loss=0.145]\n",
      "Training Epoch 3/25, Fold 8/10: 100%|██████████| 184/184 [00:40<00:00,  4.50it/s, loss=0.0606]\n",
      "Training Epoch 4/25, Fold 8/10: 100%|██████████| 184/184 [00:40<00:00,  4.50it/s, loss=0.0364]\n",
      "Training Epoch 5/25, Fold 8/10: 100%|██████████| 184/184 [00:40<00:00,  4.50it/s, loss=0.00626]\n",
      "Training Epoch 6/25, Fold 8/10: 100%|██████████| 184/184 [00:40<00:00,  4.50it/s, loss=0.0289] \n",
      "Training Epoch 7/25, Fold 8/10: 100%|██████████| 184/184 [00:40<00:00,  4.50it/s, loss=0.0281]\n",
      "Training Epoch 8/25, Fold 8/10: 100%|██████████| 184/184 [00:40<00:00,  4.50it/s, loss=0.0118] \n",
      "Training Epoch 9/25, Fold 8/10: 100%|██████████| 184/184 [00:40<00:00,  4.50it/s, loss=0.00134]\n",
      "Training Epoch 10/25, Fold 8/10: 100%|██████████| 184/184 [00:40<00:00,  4.50it/s, loss=0.000731]\n",
      "Training Epoch 11/25, Fold 8/10: 100%|██████████| 184/184 [00:40<00:00,  4.50it/s, loss=0.00806]\n",
      "Training Epoch 12/25, Fold 8/10: 100%|██████████| 184/184 [00:40<00:00,  4.50it/s, loss=0.000643]\n",
      "Training Epoch 13/25, Fold 8/10: 100%|██████████| 184/184 [00:40<00:00,  4.50it/s, loss=0.0278] \n",
      "Training Epoch 14/25, Fold 8/10: 100%|██████████| 184/184 [00:40<00:00,  4.50it/s, loss=0.024] \n",
      "Training Epoch 15/25, Fold 8/10: 100%|██████████| 184/184 [00:41<00:00,  4.48it/s, loss=0.015] \n",
      "Training Epoch 16/25, Fold 8/10: 100%|██████████| 184/184 [00:40<00:00,  4.50it/s, loss=0.00652]\n",
      "Training Epoch 17/25, Fold 8/10: 100%|██████████| 184/184 [00:40<00:00,  4.50it/s, loss=0.00169]\n",
      "Training Epoch 18/25, Fold 8/10: 100%|██████████| 184/184 [00:40<00:00,  4.50it/s, loss=0.000253]\n",
      "Training Epoch 19/25, Fold 8/10: 100%|██████████| 184/184 [00:40<00:00,  4.50it/s, loss=0.000171]\n",
      "Training Epoch 20/25, Fold 8/10: 100%|██████████| 184/184 [00:40<00:00,  4.50it/s, loss=0.000428]\n",
      "Training Epoch 21/25, Fold 8/10: 100%|██████████| 184/184 [00:40<00:00,  4.50it/s, loss=0.0354]\n",
      "Training Epoch 22/25, Fold 8/10: 100%|██████████| 184/184 [00:40<00:00,  4.50it/s, loss=0.00511]\n",
      "Training Epoch 23/25, Fold 8/10: 100%|██████████| 184/184 [00:40<00:00,  4.50it/s, loss=0.00607]\n",
      "Training Epoch 24/25, Fold 8/10: 100%|██████████| 184/184 [00:40<00:00,  4.50it/s, loss=0.00811]\n",
      "Training Epoch 25/25, Fold 8/10: 100%|██████████| 184/184 [00:40<00:00,  4.50it/s, loss=0.0046] \n",
      "Validation, Fold 8/10: 100%|██████████| 21/21 [00:01<00:00, 14.67it/s]\n"
     ]
    },
    {
     "name": "stdout",
     "output_type": "stream",
     "text": [
      "Validation accuracy: 0.9285714285714286\n",
      "FOLD 8\n",
      "-------------------------------\n"
     ]
    },
    {
     "name": "stderr",
     "output_type": "stream",
     "text": [
      "Some weights of BertForSequenceClassification were not initialized from the model checkpoint at bert-base-uncased and are newly initialized: ['classifier.bias', 'classifier.weight']\n",
      "You should probably TRAIN this model on a down-stream task to be able to use it for predictions and inference.\n",
      "Training Epoch 1/25, Fold 9/10: 100%|██████████| 184/184 [00:40<00:00,  4.50it/s, loss=0.358]\n",
      "Training Epoch 2/25, Fold 9/10: 100%|██████████| 184/184 [00:40<00:00,  4.50it/s, loss=0.178]\n",
      "Training Epoch 3/25, Fold 9/10: 100%|██████████| 184/184 [00:40<00:00,  4.50it/s, loss=0.0708]\n",
      "Training Epoch 4/25, Fold 9/10: 100%|██████████| 184/184 [00:40<00:00,  4.50it/s, loss=0.0701]\n",
      "Training Epoch 5/25, Fold 9/10: 100%|██████████| 184/184 [00:40<00:00,  4.50it/s, loss=0.0349]\n",
      "Training Epoch 6/25, Fold 9/10: 100%|██████████| 184/184 [00:40<00:00,  4.50it/s, loss=0.0336]\n",
      "Training Epoch 7/25, Fold 9/10: 100%|██████████| 184/184 [00:44<00:00,  4.17it/s, loss=0.00749]\n",
      "Training Epoch 8/25, Fold 9/10: 100%|██████████| 184/184 [00:44<00:00,  4.18it/s, loss=0.00161]\n",
      "Training Epoch 9/25, Fold 9/10: 100%|██████████| 184/184 [00:44<00:00,  4.16it/s, loss=0.000849]\n",
      "Training Epoch 10/25, Fold 9/10: 100%|██████████| 184/184 [00:44<00:00,  4.15it/s, loss=0.000693]\n",
      "Training Epoch 11/25, Fold 9/10: 100%|██████████| 184/184 [00:43<00:00,  4.24it/s, loss=0.000506]\n",
      "Training Epoch 12/25, Fold 9/10: 100%|██████████| 184/184 [00:43<00:00,  4.23it/s, loss=0.000391]\n",
      "Training Epoch 13/25, Fold 9/10: 100%|██████████| 184/184 [00:43<00:00,  4.18it/s, loss=0.000306]\n",
      "Training Epoch 14/25, Fold 9/10: 100%|██████████| 184/184 [00:45<00:00,  4.06it/s, loss=0.000257]\n",
      "Training Epoch 15/25, Fold 9/10: 100%|██████████| 184/184 [00:46<00:00,  3.93it/s, loss=0.000215]\n",
      "Training Epoch 16/25, Fold 9/10: 100%|██████████| 184/184 [00:46<00:00,  3.92it/s, loss=0.000182]\n",
      "Training Epoch 17/25, Fold 9/10: 100%|██████████| 184/184 [00:47<00:00,  3.91it/s, loss=0.000187]\n",
      "Training Epoch 18/25, Fold 9/10: 100%|██████████| 184/184 [00:47<00:00,  3.89it/s, loss=0.000143]\n",
      "Training Epoch 19/25, Fold 9/10: 100%|██████████| 184/184 [00:46<00:00,  3.93it/s, loss=0.000123]\n",
      "Training Epoch 20/25, Fold 9/10: 100%|██████████| 184/184 [00:45<00:00,  4.07it/s, loss=0.000108]\n",
      "Training Epoch 21/25, Fold 9/10: 100%|██████████| 184/184 [00:45<00:00,  4.08it/s, loss=9.5e-5] \n",
      "Training Epoch 22/25, Fold 9/10: 100%|██████████| 184/184 [00:44<00:00,  4.11it/s, loss=8.4e-5] \n",
      "Training Epoch 23/25, Fold 9/10: 100%|██████████| 184/184 [00:45<00:00,  4.07it/s, loss=7.25e-5]\n",
      "Training Epoch 24/25, Fold 9/10: 100%|██████████| 184/184 [00:45<00:00,  4.06it/s, loss=6.55e-5]\n",
      "Training Epoch 25/25, Fold 9/10: 100%|██████████| 184/184 [00:44<00:00,  4.09it/s, loss=5.98e-5]\n",
      "Validation, Fold 9/10: 100%|██████████| 21/21 [00:01<00:00, 12.68it/s]\n"
     ]
    },
    {
     "name": "stdout",
     "output_type": "stream",
     "text": [
      "Validation accuracy: 0.9404761904761905\n",
      "FOLD 9\n",
      "-------------------------------\n"
     ]
    },
    {
     "name": "stderr",
     "output_type": "stream",
     "text": [
      "Some weights of BertForSequenceClassification were not initialized from the model checkpoint at bert-base-uncased and are newly initialized: ['classifier.bias', 'classifier.weight']\n",
      "You should probably TRAIN this model on a down-stream task to be able to use it for predictions and inference.\n",
      "Training Epoch 1/25, Fold 10/10: 100%|██████████| 184/184 [00:44<00:00,  4.09it/s, loss=0.336]\n",
      "Training Epoch 2/25, Fold 10/10: 100%|██████████| 184/184 [00:44<00:00,  4.11it/s, loss=0.138]\n",
      "Training Epoch 3/25, Fold 10/10: 100%|██████████| 184/184 [00:45<00:00,  4.08it/s, loss=0.0379]\n",
      "Training Epoch 4/25, Fold 10/10: 100%|██████████| 184/184 [00:44<00:00,  4.10it/s, loss=0.0484]\n",
      "Training Epoch 5/25, Fold 10/10: 100%|██████████| 184/184 [00:45<00:00,  4.08it/s, loss=0.0143]\n",
      "Training Epoch 6/25, Fold 10/10: 100%|██████████| 184/184 [00:45<00:00,  4.08it/s, loss=0.0142]\n",
      "Training Epoch 7/25, Fold 10/10: 100%|██████████| 184/184 [00:45<00:00,  4.06it/s, loss=0.00176]\n",
      "Training Epoch 8/25, Fold 10/10: 100%|██████████| 184/184 [00:44<00:00,  4.09it/s, loss=0.000949]\n",
      "Training Epoch 9/25, Fold 10/10: 100%|██████████| 184/184 [00:45<00:00,  4.04it/s, loss=0.000477]\n",
      "Training Epoch 10/25, Fold 10/10: 100%|██████████| 184/184 [00:45<00:00,  4.08it/s, loss=0.0198]  \n",
      "Training Epoch 11/25, Fold 10/10: 100%|██████████| 184/184 [00:44<00:00,  4.12it/s, loss=0.0313]\n",
      "Training Epoch 12/25, Fold 10/10: 100%|██████████| 184/184 [00:45<00:00,  4.07it/s, loss=0.0115] \n",
      "Training Epoch 13/25, Fold 10/10: 100%|██████████| 184/184 [00:45<00:00,  4.07it/s, loss=0.00843]\n",
      "Training Epoch 14/25, Fold 10/10: 100%|██████████| 184/184 [00:44<00:00,  4.10it/s, loss=0.00388] \n",
      "Training Epoch 15/25, Fold 10/10: 100%|██████████| 184/184 [00:45<00:00,  4.08it/s, loss=0.000444]\n",
      "Training Epoch 16/25, Fold 10/10: 100%|██████████| 184/184 [00:44<00:00,  4.11it/s, loss=0.000253]\n",
      "Training Epoch 17/25, Fold 10/10: 100%|██████████| 184/184 [00:45<00:00,  4.03it/s, loss=0.000286]\n",
      "Training Epoch 18/25, Fold 10/10: 100%|██████████| 184/184 [00:44<00:00,  4.18it/s, loss=0.000144]\n",
      "Training Epoch 19/25, Fold 10/10: 100%|██████████| 184/184 [00:44<00:00,  4.13it/s, loss=0.000111]\n",
      "Training Epoch 20/25, Fold 10/10: 100%|██████████| 184/184 [00:44<00:00,  4.12it/s, loss=9.17e-5]\n",
      "Training Epoch 21/25, Fold 10/10: 100%|██████████| 184/184 [00:45<00:00,  4.08it/s, loss=7.83e-5]\n",
      "Training Epoch 22/25, Fold 10/10: 100%|██████████| 184/184 [00:44<00:00,  4.12it/s, loss=7.06e-5]\n",
      "Training Epoch 23/25, Fold 10/10: 100%|██████████| 184/184 [00:44<00:00,  4.18it/s, loss=6.17e-5]\n",
      "Training Epoch 24/25, Fold 10/10: 100%|██████████| 184/184 [00:44<00:00,  4.17it/s, loss=5.56e-5]\n",
      "Training Epoch 25/25, Fold 10/10: 100%|██████████| 184/184 [00:44<00:00,  4.17it/s, loss=4.57e-5]\n",
      "Validation, Fold 10/10: 100%|██████████| 21/21 [00:01<00:00, 13.68it/s]"
     ]
    },
    {
     "name": "stdout",
     "output_type": "stream",
     "text": [
      "Validation accuracy: 0.9107142857142857\n",
      "Average performance across all folds: {'avg_train_loss': 0.001972767296634313, 'avg_val_loss': 0.445684893727481, 'avg_val_accuracy': 0.9259920634920634}\n"
     ]
    },
    {
     "name": "stderr",
     "output_type": "stream",
     "text": [
      "\n"
     ]
    }
   ],
   "source": [
    "import numpy as np\n",
    "# Define the KFold cross-validator\n",
    "kf = KFold(n_splits=10, shuffle=True, random_state=42)\n",
    "\n",
    "# Initialize performance metric list\n",
    "fold_performance = []\n",
    "\n",
    "# Parameters\n",
    "batch_size = 8\n",
    "epochs = 25\n",
    "learning_rate = 2e-5\n",
    "\n",
    "# Define the device\n",
    "device = torch.device(\"cuda\" if torch.cuda.is_available() else \"cpu\")\n",
    "\n",
    "# Start the KFold cross-validation\n",
    "for fold, (train_ids, test_ids) in enumerate(kf.split(dataset)):\n",
    "    print(f\"FOLD {fold}\")\n",
    "    print(\"-------------------------------\")\n",
    "\n",
    "    # Split the data into training and validation sets for the current fold\n",
    "    train_subset = Subset(dataset, train_ids)\n",
    "    test_subset = Subset(dataset, test_ids)\n",
    "    \n",
    "    train_dataloader = DataLoader(train_subset, sampler=RandomSampler(train_subset), batch_size=batch_size)\n",
    "    test_dataloader = DataLoader(test_subset, sampler=SequentialSampler(test_subset), batch_size=batch_size)\n",
    "    \n",
    "    # Initialize the BERT model for sequence classification\n",
    "    model = BertForSequenceClassification.from_pretrained('bert-base-uncased')\n",
    "    model.to(device)\n",
    "    \n",
    "    # Define the optimizer\n",
    "    optimizer = AdamW(model.parameters(), lr=learning_rate)\n",
    "    model.train()\n",
    "    \n",
    "    # Training loop for the current fold\n",
    "    for epoch in range(epochs):\n",
    "        total_loss = 0\n",
    "        \n",
    "        train_progress_bar = tqdm(train_dataloader, desc=f\"Training Epoch {epoch+1}/{epochs}, Fold {fold+1}/10\")\n",
    "        \n",
    "        for step, batch in enumerate(train_progress_bar):\n",
    "            batch = tuple(t.to(device) for t in batch)\n",
    "            b_input_ids, b_input_mask, b_labels = batch\n",
    "            \n",
    "            model.zero_grad()\n",
    "            \n",
    "            outputs = model(b_input_ids, attention_mask=b_input_mask, labels=b_labels)\n",
    "            loss = outputs.loss\n",
    "            total_loss += loss.item()\n",
    "            \n",
    "            loss.backward()\n",
    "            optimizer.step()\n",
    "            \n",
    "            train_progress_bar.set_postfix(loss=total_loss/(step+1))\n",
    "        \n",
    "        train_progress_bar.close()\n",
    "        \n",
    "    # Calculate the average loss over the training data.\n",
    "    avg_train_loss = total_loss / len(train_dataloader)\n",
    "        \n",
    "    # Validation step\n",
    "    model.eval()\n",
    "    total_eval_accuracy = 0\n",
    "    total_eval_loss = 0\n",
    "\n",
    "    eval_progress_bar = tqdm(test_dataloader, desc=f\"Validation, Fold {fold+1}/10\")\n",
    "\n",
    "    for batch in eval_progress_bar:\n",
    "        batch = tuple(t.to(device) for t in batch)\n",
    "        b_input_ids, b_input_mask, b_labels = batch\n",
    "    \n",
    "        with torch.no_grad():\n",
    "            outputs = model(b_input_ids, attention_mask=b_input_mask, labels=b_labels)\n",
    "    \n",
    "        loss = outputs.loss\n",
    "        total_eval_loss += loss.item()\n",
    "    \n",
    "        # Move logits and labels to CPU\n",
    "        logits = outputs.logits.detach().cpu().numpy()\n",
    "        label_ids = b_labels.to('cpu').numpy()\n",
    "\n",
    "        # Calculate the accuracy for this batch of test sentences\n",
    "        preds = np.argmax(logits, axis=1)\n",
    "        batch_accuracy = np.mean(preds == label_ids)\n",
    "        total_eval_accuracy += batch_accuracy\n",
    "        \n",
    "    # Report the final accuracy for this validation run.\n",
    "    avg_val_accuracy = total_eval_accuracy / len(test_dataloader)\n",
    "    print(f\"Validation accuracy: {avg_val_accuracy}\")\n",
    "\n",
    "\n",
    "    # Calculate the average loss over all of the batches.\n",
    "    avg_val_loss = total_eval_loss / len(test_dataloader)\n",
    "    \n",
    "    # Record all statistics from this epoch.\n",
    "    fold_performance.append({\n",
    "        'fold': fold,\n",
    "        'train_loss': avg_train_loss,\n",
    "        'val_loss': avg_val_loss,\n",
    "        'val_accuracy': avg_val_accuracy\n",
    "    })\n",
    "\n",
    "    eval_progress_bar.close()\n",
    "\n",
    "# Calculate and print the average performance across all folds\n",
    "average_performance = {\n",
    "    'avg_train_loss': np.mean([x['train_loss'] for x in fold_performance]),\n",
    "    'avg_val_loss': np.mean([x['val_loss'] for x in fold_performance]),\n",
    "    'avg_val_accuracy': np.mean([x['val_accuracy'] for x in fold_performance])\n",
    "}\n",
    "print(f\"Average performance across all folds: {average_performance}\")"
   ]
  }
 ],
 "metadata": {
  "kernelspec": {
   "display_name": "Python 3 (ipykernel)",
   "language": "python",
   "name": "python3"
  },
  "language_info": {
   "codemirror_mode": {
    "name": "ipython",
    "version": 3
   },
   "file_extension": ".py",
   "mimetype": "text/x-python",
   "name": "python",
   "nbconvert_exporter": "python",
   "pygments_lexer": "ipython3",
   "version": "3.10.13"
  }
 },
 "nbformat": 4,
 "nbformat_minor": 5
}
